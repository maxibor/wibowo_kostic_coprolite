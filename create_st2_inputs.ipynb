{
 "cells": [
  {
   "cell_type": "code",
   "execution_count": 1,
   "metadata": {},
   "outputs": [],
   "source": [
    "import pandas as pd\n",
    "import seaborn as sns\n",
    "import matplotlib.pyplot as plt\n",
    "from plotnine import *"
   ]
  },
  {
   "cell_type": "markdown",
   "metadata": {},
   "source": [
    "### Westernized samples from [curatedMetagenomicsData](http://bioconductor.org/packages/release/data/experiment/html/curatedMetagenomicData.html) package"
   ]
  },
  {
   "cell_type": "code",
   "execution_count": 2,
   "metadata": {},
   "outputs": [],
   "source": [
    "west_count = pd.read_csv(\"curated_metagenomics/data/westernized_count.csv\", index_col=0)"
   ]
  },
  {
   "cell_type": "markdown",
   "metadata": {},
   "source": [
    "Choosing randomly 40 samples"
   ]
  },
  {
   "cell_type": "code",
   "execution_count": 3,
   "metadata": {},
   "outputs": [],
   "source": [
    "west_count = west_count.sample(40, axis=1, random_state=42)"
   ]
  },
  {
   "cell_type": "code",
   "execution_count": 4,
   "metadata": {},
   "outputs": [],
   "source": [
    "west_ref = list(set([i[0] for i in list(west_count.columns.str.split(\".\"))]))"
   ]
  },
  {
   "cell_type": "markdown",
   "metadata": {},
   "source": [
    "### Non-westernized samples from [curatedMetagenomicsData](http://bioconductor.org/packages/release/data/experiment/html/curatedMetagenomicData.html) package"
   ]
  },
  {
   "cell_type": "code",
   "execution_count": 5,
   "metadata": {},
   "outputs": [],
   "source": [
    "non_west_count = pd.read_csv(\"curated_metagenomics/data/non_westernized_count.csv\", index_col=0)"
   ]
  },
  {
   "cell_type": "code",
   "execution_count": 6,
   "metadata": {},
   "outputs": [],
   "source": [
    "non_west_count = non_west_count.sample(40, axis=1, random_state=42)"
   ]
  },
  {
   "cell_type": "code",
   "execution_count": 7,
   "metadata": {},
   "outputs": [
    {
     "data": {
      "text/plain": [
       "(2579, 40)"
      ]
     },
     "execution_count": 7,
     "metadata": {},
     "output_type": "execute_result"
    }
   ],
   "source": [
    "non_west_count.shape"
   ]
  },
  {
   "cell_type": "code",
   "execution_count": 8,
   "metadata": {},
   "outputs": [],
   "source": [
    "non_west_ref = list(set([i[0] for i in list(non_west_count.columns.str.split(\".\"))]))"
   ]
  },
  {
   "cell_type": "code",
   "execution_count": 9,
   "metadata": {},
   "outputs": [],
   "source": [
    "refs = list(set(west_ref + non_west_ref))"
   ]
  },
  {
   "cell_type": "code",
   "execution_count": 10,
   "metadata": {},
   "outputs": [],
   "source": [
    "with open(\"reference.txt\", 'w') as fw:\n",
    "    for i in refs:\n",
    "        fw.write(f\"{i}\\n\")"
   ]
  },
  {
   "cell_type": "markdown",
   "metadata": {},
   "source": [
    "#### Exporting samples used to csv"
   ]
  },
  {
   "cell_type": "code",
   "execution_count": 11,
   "metadata": {},
   "outputs": [],
   "source": [
    "western_meta = pd.read_csv(\"curated_metagenomics/westernized_metadata.csv\", index_col=1)"
   ]
  },
  {
   "cell_type": "code",
   "execution_count": 12,
   "metadata": {},
   "outputs": [],
   "source": [
    "non_western_meta = pd.read_csv(\"curated_metagenomics/non_westernized_metadata.csv\", index_col=1)"
   ]
  },
  {
   "cell_type": "code",
   "execution_count": 13,
   "metadata": {},
   "outputs": [],
   "source": [
    "used_samples = western_meta.loc[west_count.columns,:]"
   ]
  },
  {
   "cell_type": "code",
   "execution_count": 14,
   "metadata": {},
   "outputs": [],
   "source": [
    "used_samples = used_samples.append(non_western_meta.loc[non_west_count.columns,:])"
   ]
  },
  {
   "cell_type": "code",
   "execution_count": 15,
   "metadata": {},
   "outputs": [],
   "source": [
    "used_samples = used_samples.loc[:,['non_westernized','studyID','subjectID','NCBI_accession']]"
   ]
  },
  {
   "cell_type": "code",
   "execution_count": 16,
   "metadata": {},
   "outputs": [],
   "source": [
    "used_samples.to_csv(\"curated_metagenomics_data.csv\")"
   ]
  },
  {
   "cell_type": "markdown",
   "metadata": {},
   "source": [
    "### Sediment samples from Archaelogical sediments (generated using [metaphlan-nf](https://github.com/maxibor/metaphlan-nf))"
   ]
  },
  {
   "cell_type": "code",
   "execution_count": 17,
   "metadata": {},
   "outputs": [],
   "source": [
    "sediment_count = pd.read_csv(\"PRJEB18629/data/sediment_count.csv\", index_col=1).drop(\"Unnamed: 0\", 1).sample(40, axis=1, random_state=42)"
   ]
  },
  {
   "cell_type": "markdown",
   "metadata": {},
   "source": [
    "### Sediment samples from [coproID](https://peerj.com/articles/9001/) study (generated using [metaphlan-nf](https://github.com/maxibor/metaphlan-nf))"
   ]
  },
  {
   "cell_type": "code",
   "execution_count": 30,
   "metadata": {},
   "outputs": [],
   "source": [
    "coproid_sedi = pd.read_csv(\"coproid_sediments/metaphlan_taxon_table.csv\", index_col=1).drop(\"Unnamed: 0\", 1).rename(columns={'ECO004_D0101_SG1_1_S0':'ECO004'})"
   ]
  },
  {
   "cell_type": "code",
   "execution_count": 31,
   "metadata": {},
   "outputs": [
    {
     "data": {
      "text/html": [
       "<div>\n",
       "<style scoped>\n",
       "    .dataframe tbody tr th:only-of-type {\n",
       "        vertical-align: middle;\n",
       "    }\n",
       "\n",
       "    .dataframe tbody tr th {\n",
       "        vertical-align: top;\n",
       "    }\n",
       "\n",
       "    .dataframe thead th {\n",
       "        text-align: right;\n",
       "    }\n",
       "</style>\n",
       "<table border=\"1\" class=\"dataframe\">\n",
       "  <thead>\n",
       "    <tr style=\"text-align: right;\">\n",
       "      <th></th>\n",
       "      <th>CBA001</th>\n",
       "      <th>ECO004</th>\n",
       "      <th>DRL001</th>\n",
       "      <th>BRF001</th>\n",
       "      <th>TRO001</th>\n",
       "      <th>LEI010</th>\n",
       "      <th>MLP001</th>\n",
       "      <th>CMN001</th>\n",
       "    </tr>\n",
       "    <tr>\n",
       "      <th>Taxon</th>\n",
       "      <th></th>\n",
       "      <th></th>\n",
       "      <th></th>\n",
       "      <th></th>\n",
       "      <th></th>\n",
       "      <th></th>\n",
       "      <th></th>\n",
       "      <th></th>\n",
       "    </tr>\n",
       "  </thead>\n",
       "  <tbody>\n",
       "    <tr>\n",
       "      <th>k__Bacteria</th>\n",
       "      <td>17209108.0</td>\n",
       "      <td>17822197.0</td>\n",
       "      <td>14959075.0</td>\n",
       "      <td>18426031.0</td>\n",
       "      <td>15740372.0</td>\n",
       "      <td>10862869.0</td>\n",
       "      <td>10564919.0</td>\n",
       "      <td>15278430.0</td>\n",
       "    </tr>\n",
       "    <tr>\n",
       "      <th>k__Bacteria|p__Actinobacteria</th>\n",
       "      <td>9142336.0</td>\n",
       "      <td>4957632.0</td>\n",
       "      <td>1479418.0</td>\n",
       "      <td>16817002.0</td>\n",
       "      <td>5887626.0</td>\n",
       "      <td>625525.0</td>\n",
       "      <td>363890.0</td>\n",
       "      <td>5546261.0</td>\n",
       "    </tr>\n",
       "    <tr>\n",
       "      <th>k__Bacteria|p__Proteobacteria</th>\n",
       "      <td>7712525.0</td>\n",
       "      <td>9931609.0</td>\n",
       "      <td>10523279.0</td>\n",
       "      <td>1241700.0</td>\n",
       "      <td>4049770.0</td>\n",
       "      <td>10237343.0</td>\n",
       "      <td>8398476.0</td>\n",
       "      <td>9363784.0</td>\n",
       "    </tr>\n",
       "    <tr>\n",
       "      <th>k__Bacteria|p__Acidobacteria</th>\n",
       "      <td>354246.0</td>\n",
       "      <td>2633128.0</td>\n",
       "      <td>2549891.0</td>\n",
       "      <td>262652.0</td>\n",
       "      <td>4056181.0</td>\n",
       "      <td>0.0</td>\n",
       "      <td>0.0</td>\n",
       "      <td>368384.0</td>\n",
       "    </tr>\n",
       "    <tr>\n",
       "      <th>k__Bacteria|p__Actinobacteria|c__Actinobacteria</th>\n",
       "      <td>9142336.0</td>\n",
       "      <td>4957632.0</td>\n",
       "      <td>1479418.0</td>\n",
       "      <td>16817002.0</td>\n",
       "      <td>5887626.0</td>\n",
       "      <td>625525.0</td>\n",
       "      <td>363890.0</td>\n",
       "      <td>5546261.0</td>\n",
       "    </tr>\n",
       "    <tr>\n",
       "      <th>...</th>\n",
       "      <td>...</td>\n",
       "      <td>...</td>\n",
       "      <td>...</td>\n",
       "      <td>...</td>\n",
       "      <td>...</td>\n",
       "      <td>...</td>\n",
       "      <td>...</td>\n",
       "      <td>...</td>\n",
       "    </tr>\n",
       "    <tr>\n",
       "      <th>k__Bacteria|p__Proteobacteria|c__Betaproteobacteria|o__Burkholderiales|f__Comamonadaceae|g__Polaromonas|s__Polaromonas_unclassified</th>\n",
       "      <td>0.0</td>\n",
       "      <td>0.0</td>\n",
       "      <td>0.0</td>\n",
       "      <td>0.0</td>\n",
       "      <td>0.0</td>\n",
       "      <td>0.0</td>\n",
       "      <td>0.0</td>\n",
       "      <td>58740.0</td>\n",
       "    </tr>\n",
       "    <tr>\n",
       "      <th>k__Bacteria|p__Actinobacteria|c__Actinobacteria|o__Actinomycetales|f__Promicromonosporaceae|g__Promicromonospora|s__Promicromonospora_sukumoe</th>\n",
       "      <td>0.0</td>\n",
       "      <td>0.0</td>\n",
       "      <td>0.0</td>\n",
       "      <td>0.0</td>\n",
       "      <td>0.0</td>\n",
       "      <td>0.0</td>\n",
       "      <td>0.0</td>\n",
       "      <td>10924.0</td>\n",
       "    </tr>\n",
       "    <tr>\n",
       "      <th>k__Bacteria|p__Proteobacteria|c__Alphaproteobacteria|o__Rhodobacterales|f__Rhodobacteraceae|g__Paracoccus|s__Paracoccus_denitrificans|t__Paracoccus_denitrificans_unclassified</th>\n",
       "      <td>0.0</td>\n",
       "      <td>0.0</td>\n",
       "      <td>0.0</td>\n",
       "      <td>0.0</td>\n",
       "      <td>0.0</td>\n",
       "      <td>0.0</td>\n",
       "      <td>0.0</td>\n",
       "      <td>312818.0</td>\n",
       "    </tr>\n",
       "    <tr>\n",
       "      <th>k__Bacteria|p__Proteobacteria|c__Alphaproteobacteria|o__Rhizobiales|f__Rhizobiaceae|g__Rhizobium|s__Rhizobium_giardinii|t__GCF_000379605</th>\n",
       "      <td>0.0</td>\n",
       "      <td>0.0</td>\n",
       "      <td>0.0</td>\n",
       "      <td>0.0</td>\n",
       "      <td>0.0</td>\n",
       "      <td>0.0</td>\n",
       "      <td>0.0</td>\n",
       "      <td>159702.0</td>\n",
       "    </tr>\n",
       "    <tr>\n",
       "      <th>k__Bacteria|p__Actinobacteria|c__Actinobacteria|o__Actinomycetales|f__Promicromonosporaceae|g__Promicromonospora|s__Promicromonospora_sukumoe|t__GCF_000385135</th>\n",
       "      <td>0.0</td>\n",
       "      <td>0.0</td>\n",
       "      <td>0.0</td>\n",
       "      <td>0.0</td>\n",
       "      <td>0.0</td>\n",
       "      <td>0.0</td>\n",
       "      <td>0.0</td>\n",
       "      <td>10924.0</td>\n",
       "    </tr>\n",
       "  </tbody>\n",
       "</table>\n",
       "<p>264 rows × 8 columns</p>\n",
       "</div>"
      ],
      "text/plain": [
       "                                                        CBA001      ECO004  \\\n",
       "Taxon                                                                        \n",
       "k__Bacteria                                         17209108.0  17822197.0   \n",
       "k__Bacteria|p__Actinobacteria                        9142336.0   4957632.0   \n",
       "k__Bacteria|p__Proteobacteria                        7712525.0   9931609.0   \n",
       "k__Bacteria|p__Acidobacteria                          354246.0   2633128.0   \n",
       "k__Bacteria|p__Actinobacteria|c__Actinobacteria      9142336.0   4957632.0   \n",
       "...                                                        ...         ...   \n",
       "k__Bacteria|p__Proteobacteria|c__Betaproteobact...         0.0         0.0   \n",
       "k__Bacteria|p__Actinobacteria|c__Actinobacteria...         0.0         0.0   \n",
       "k__Bacteria|p__Proteobacteria|c__Alphaproteobac...         0.0         0.0   \n",
       "k__Bacteria|p__Proteobacteria|c__Alphaproteobac...         0.0         0.0   \n",
       "k__Bacteria|p__Actinobacteria|c__Actinobacteria...         0.0         0.0   \n",
       "\n",
       "                                                        DRL001      BRF001  \\\n",
       "Taxon                                                                        \n",
       "k__Bacteria                                         14959075.0  18426031.0   \n",
       "k__Bacteria|p__Actinobacteria                        1479418.0  16817002.0   \n",
       "k__Bacteria|p__Proteobacteria                       10523279.0   1241700.0   \n",
       "k__Bacteria|p__Acidobacteria                         2549891.0    262652.0   \n",
       "k__Bacteria|p__Actinobacteria|c__Actinobacteria      1479418.0  16817002.0   \n",
       "...                                                        ...         ...   \n",
       "k__Bacteria|p__Proteobacteria|c__Betaproteobact...         0.0         0.0   \n",
       "k__Bacteria|p__Actinobacteria|c__Actinobacteria...         0.0         0.0   \n",
       "k__Bacteria|p__Proteobacteria|c__Alphaproteobac...         0.0         0.0   \n",
       "k__Bacteria|p__Proteobacteria|c__Alphaproteobac...         0.0         0.0   \n",
       "k__Bacteria|p__Actinobacteria|c__Actinobacteria...         0.0         0.0   \n",
       "\n",
       "                                                        TRO001      LEI010  \\\n",
       "Taxon                                                                        \n",
       "k__Bacteria                                         15740372.0  10862869.0   \n",
       "k__Bacteria|p__Actinobacteria                        5887626.0    625525.0   \n",
       "k__Bacteria|p__Proteobacteria                        4049770.0  10237343.0   \n",
       "k__Bacteria|p__Acidobacteria                         4056181.0         0.0   \n",
       "k__Bacteria|p__Actinobacteria|c__Actinobacteria      5887626.0    625525.0   \n",
       "...                                                        ...         ...   \n",
       "k__Bacteria|p__Proteobacteria|c__Betaproteobact...         0.0         0.0   \n",
       "k__Bacteria|p__Actinobacteria|c__Actinobacteria...         0.0         0.0   \n",
       "k__Bacteria|p__Proteobacteria|c__Alphaproteobac...         0.0         0.0   \n",
       "k__Bacteria|p__Proteobacteria|c__Alphaproteobac...         0.0         0.0   \n",
       "k__Bacteria|p__Actinobacteria|c__Actinobacteria...         0.0         0.0   \n",
       "\n",
       "                                                        MLP001      CMN001  \n",
       "Taxon                                                                       \n",
       "k__Bacteria                                         10564919.0  15278430.0  \n",
       "k__Bacteria|p__Actinobacteria                         363890.0   5546261.0  \n",
       "k__Bacteria|p__Proteobacteria                        8398476.0   9363784.0  \n",
       "k__Bacteria|p__Acidobacteria                               0.0    368384.0  \n",
       "k__Bacteria|p__Actinobacteria|c__Actinobacteria       363890.0   5546261.0  \n",
       "...                                                        ...         ...  \n",
       "k__Bacteria|p__Proteobacteria|c__Betaproteobact...         0.0     58740.0  \n",
       "k__Bacteria|p__Actinobacteria|c__Actinobacteria...         0.0     10924.0  \n",
       "k__Bacteria|p__Proteobacteria|c__Alphaproteobac...         0.0    312818.0  \n",
       "k__Bacteria|p__Proteobacteria|c__Alphaproteobac...         0.0    159702.0  \n",
       "k__Bacteria|p__Actinobacteria|c__Actinobacteria...         0.0     10924.0  \n",
       "\n",
       "[264 rows x 8 columns]"
      ]
     },
     "execution_count": 31,
     "metadata": {},
     "output_type": "execute_result"
    }
   ],
   "source": [
    "coproid_sedi"
   ]
  },
  {
   "cell_type": "markdown",
   "metadata": {},
   "source": [
    "### Marsha's samples"
   ]
  },
  {
   "cell_type": "code",
   "execution_count": 34,
   "metadata": {},
   "outputs": [],
   "source": [
    "import os"
   ]
  },
  {
   "cell_type": "code",
   "execution_count": 35,
   "metadata": {},
   "outputs": [],
   "source": [
    "def get_samp_basename(samp_name):\n",
    "    return(\"_\".join(samp_name.split(\"_\")[0:2]))"
   ]
  },
  {
   "cell_type": "code",
   "execution_count": 36,
   "metadata": {},
   "outputs": [],
   "source": [
    "def read_sample(samp_name):\n",
    "    return(pd.read_csv(\"wibowo_mp/data/\"+samp_name, \n",
    "                       sep=\"\\t\", index_col=\"#SampleID\")\n",
    "           .rename(columns={'Metaphlan2_Analysis':get_samp_basename(samp_name)}))"
   ]
  },
  {
   "cell_type": "code",
   "execution_count": 37,
   "metadata": {},
   "outputs": [],
   "source": [
    "wib_metadata = pd.read_csv(\"wibowo_mp/samples_metadata.txt\", sep=\"\\t\", index_col=0)"
   ]
  },
  {
   "cell_type": "code",
   "execution_count": 38,
   "metadata": {},
   "outputs": [],
   "source": [
    "wib_metadata['total_reads'] = wib_metadata[\"Number of reads (pair 1)\"] +  wib_metadata['Number of reads (pair 2)']"
   ]
  },
  {
   "cell_type": "code",
   "execution_count": 39,
   "metadata": {},
   "outputs": [],
   "source": [
    "soil_samp = ['Lib4_10','Lib4_11','Lib4_12']"
   ]
  },
  {
   "cell_type": "code",
   "execution_count": 40,
   "metadata": {},
   "outputs": [],
   "source": [
    "wib_samp = [i for i in os.listdir(\"wibowo_mp/data/\")]"
   ]
  },
  {
   "cell_type": "code",
   "execution_count": 41,
   "metadata": {},
   "outputs": [],
   "source": [
    "wib = read_sample(wib_samp[0])"
   ]
  },
  {
   "cell_type": "code",
   "execution_count": 42,
   "metadata": {},
   "outputs": [],
   "source": [
    "for i in wib_samp[1:]:\n",
    "    wib = wib.merge(read_sample(i), left_index=True, right_index=True, how='outer')"
   ]
  },
  {
   "cell_type": "code",
   "execution_count": 43,
   "metadata": {},
   "outputs": [],
   "source": [
    "wib = wib.fillna(0)"
   ]
  },
  {
   "cell_type": "code",
   "execution_count": 44,
   "metadata": {},
   "outputs": [],
   "source": [
    "for col in wib.columns:\n",
    "    wib[col] = wib[col]/100*wib_metadata.loc[col,'total_reads']"
   ]
  },
  {
   "cell_type": "code",
   "execution_count": 45,
   "metadata": {},
   "outputs": [],
   "source": [
    "wib_analysis = wib.copy(deep=True)"
   ]
  },
  {
   "cell_type": "code",
   "execution_count": 46,
   "metadata": {},
   "outputs": [
    {
     "data": {
      "image/png": "[encoded data removed]",
      "text/plain": [
       "<Figure size 432x288 with 2 Axes>"
      ]
     },
     "metadata": {
      "needs_background": "light"
     },
     "output_type": "display_data"
    }
   ],
   "source": [
    "ax = sns.heatmap(wib_analysis, yticklabels=False)\n",
    "ax.set(ylabel='Taxon')\n",
    "fig = ax.get_figure()\n",
    "fig.savefig(\"wib_heatmap.png\", dpi=300)"
   ]
  },
  {
   "cell_type": "code",
   "execution_count": 47,
   "metadata": {},
   "outputs": [],
   "source": [
    "phyl_count = wib_analysis.filter(axis=0,regex=\".*(p__[a-zA-Z]+)$\").T"
   ]
  },
  {
   "cell_type": "code",
   "execution_count": 48,
   "metadata": {},
   "outputs": [],
   "source": [
    "phyl_count.columns = [i[-1] for i in list(phyl_count.columns.str.split(\"p__\"))]"
   ]
  },
  {
   "cell_type": "code",
   "execution_count": 49,
   "metadata": {},
   "outputs": [],
   "source": [
    "phyl_count_tall = phyl_count.reset_index().melt(id_vars='index', var_name='phylum')"
   ]
  },
  {
   "cell_type": "code",
   "execution_count": 50,
   "metadata": {},
   "outputs": [
    {
     "data": {
      "text/html": [
       "<div>\n",
       "<style scoped>\n",
       "    .dataframe tbody tr th:only-of-type {\n",
       "        vertical-align: middle;\n",
       "    }\n",
       "\n",
       "    .dataframe tbody tr th {\n",
       "        vertical-align: top;\n",
       "    }\n",
       "\n",
       "    .dataframe thead th {\n",
       "        text-align: right;\n",
       "    }\n",
       "</style>\n",
       "<table border=\"1\" class=\"dataframe\">\n",
       "  <thead>\n",
       "    <tr style=\"text-align: right;\">\n",
       "      <th></th>\n",
       "      <th>index</th>\n",
       "      <th>phylum</th>\n",
       "      <th>value</th>\n",
       "    </tr>\n",
       "  </thead>\n",
       "  <tbody>\n",
       "    <tr>\n",
       "      <th>0</th>\n",
       "      <td>Lib4_3</td>\n",
       "      <td>Euryarchaeota</td>\n",
       "      <td>8.172766e+05</td>\n",
       "    </tr>\n",
       "    <tr>\n",
       "      <th>1</th>\n",
       "      <td>Lib4_7</td>\n",
       "      <td>Euryarchaeota</td>\n",
       "      <td>7.876174e+04</td>\n",
       "    </tr>\n",
       "    <tr>\n",
       "      <th>2</th>\n",
       "      <td>s_02</td>\n",
       "      <td>Euryarchaeota</td>\n",
       "      <td>2.577621e+07</td>\n",
       "    </tr>\n",
       "    <tr>\n",
       "      <th>3</th>\n",
       "      <td>Lib3_6</td>\n",
       "      <td>Euryarchaeota</td>\n",
       "      <td>3.712323e+04</td>\n",
       "    </tr>\n",
       "    <tr>\n",
       "      <th>4</th>\n",
       "      <td>Lib4_6</td>\n",
       "      <td>Euryarchaeota</td>\n",
       "      <td>1.767970e+06</td>\n",
       "    </tr>\n",
       "  </tbody>\n",
       "</table>\n",
       "</div>"
      ],
      "text/plain": [
       "    index         phylum         value\n",
       "0  Lib4_3  Euryarchaeota  8.172766e+05\n",
       "1  Lib4_7  Euryarchaeota  7.876174e+04\n",
       "2    s_02  Euryarchaeota  2.577621e+07\n",
       "3  Lib3_6  Euryarchaeota  3.712323e+04\n",
       "4  Lib4_6  Euryarchaeota  1.767970e+06"
      ]
     },
     "execution_count": 50,
     "metadata": {},
     "output_type": "execute_result"
    }
   ],
   "source": [
    "phyl_count_tall.head()"
   ]
  },
  {
   "cell_type": "code",
   "execution_count": 51,
   "metadata": {},
   "outputs": [
    {
     "name": "stderr",
     "output_type": "stream",
     "text": [
      "/projects1/users/borry/15_miniconda3/lib/python3.7/site-packages/plotnine/ggplot.py:719: PlotnineWarning: Saving 6.4 x 4.8 in image.\n",
      "  from_inches(height, units), units), PlotnineWarning)\n",
      "/projects1/users/borry/15_miniconda3/lib/python3.7/site-packages/plotnine/ggplot.py:720: PlotnineWarning: Filename: wib_phylums.png\n",
      "  warn('Filename: {}'.format(filename), PlotnineWarning)\n",
      "/projects1/users/borry/15_miniconda3/lib/python3.7/site-packages/plotnine/ggplot.py:735: MatplotlibDeprecationWarning: \n",
      "The frameon kwarg was deprecated in Matplotlib 3.1 and will be removed in 3.3. Use facecolor instead.\n",
      "  fig.savefig(filename, **fig_kwargs)\n"
     ]
    },
    {
     "data": {
      "image/png": "[encoded data removed]",
      "text/plain": [
       "<Figure size 640x480 with 1 Axes>"
      ]
     },
     "metadata": {},
     "output_type": "display_data"
    },
    {
     "data": {
      "text/plain": [
       "<ggplot: (-9223363295760015686)>"
      ]
     },
     "execution_count": 51,
     "metadata": {},
     "output_type": "execute_result"
    }
   ],
   "source": [
    "g = ggplot(phyl_count_tall, aes(x='index', y='value', fill='phylum')) \n",
    "g += geom_bar(stat='identity', position='fill')\n",
    "g += theme_classic()\n",
    "g += theme(axis_text_x = element_text(angle = 90, hjust = 1))\n",
    "g.save(\"wib_phylums.png\",dpi=300)\n",
    "g"
   ]
  },
  {
   "cell_type": "markdown",
   "metadata": {},
   "source": [
    "### Merging all samples"
   ]
  },
  {
   "cell_type": "code",
   "execution_count": 52,
   "metadata": {},
   "outputs": [],
   "source": [
    "all_samp = (west_count.merge(non_west_count, left_index=True, right_index=True, how='outer')\n",
    "            .merge(sediment_count, left_index=True, right_index=True, how='outer')\n",
    "            .merge(wib, left_index=True, right_index=True, how='outer')\n",
    "            .merge(coproid_sedi, left_index=True, right_index=True, how='outer').fillna(0))"
   ]
  },
  {
   "cell_type": "code",
   "execution_count": 53,
   "metadata": {},
   "outputs": [
    {
     "data": {
      "text/plain": [
       "(6584, 142)"
      ]
     },
     "execution_count": 53,
     "metadata": {},
     "output_type": "execute_result"
    }
   ],
   "source": [
    "all_samp.shape"
   ]
  },
  {
   "cell_type": "markdown",
   "metadata": {},
   "source": [
    "Keeping only Taxons that occur in more than 0.1% of samples"
   ]
  },
  {
   "cell_type": "code",
   "execution_count": 58,
   "metadata": {},
   "outputs": [],
   "source": [
    "all_samp = all_samp.loc[all_samp.astype(bool).sum(axis=1) >= int(all_samp.shape[1]/1000),:]"
   ]
  },
  {
   "cell_type": "markdown",
   "metadata": {},
   "source": [
    "Keeping only Taxons that have a abundance greater than 0.1% in more than one sample"
   ]
  },
  {
   "cell_type": "code",
   "execution_count": 59,
   "metadata": {},
   "outputs": [],
   "source": [
    "abundance_greater = all_samp/all_samp.sum(axis=0) > (0.1/100)"
   ]
  },
  {
   "cell_type": "code",
   "execution_count": 60,
   "metadata": {},
   "outputs": [],
   "source": [
    "filtered_sample_abundance = abundance_greater.sum(axis=1) > 1"
   ]
  },
  {
   "cell_type": "code",
   "execution_count": 61,
   "metadata": {},
   "outputs": [],
   "source": [
    "all_samp = all_samp.loc[filtered_sample_abundance,:]"
   ]
  },
  {
   "cell_type": "markdown",
   "metadata": {},
   "source": [
    "Keeping only samples that have more 10000 mapping reads"
   ]
  },
  {
   "cell_type": "code",
   "execution_count": 62,
   "metadata": {},
   "outputs": [],
   "source": [
    "all_samp = all_samp.loc[:,all_samp.sum(axis=0) >= 10000]"
   ]
  },
  {
   "cell_type": "code",
   "execution_count": 63,
   "metadata": {},
   "outputs": [
    {
     "data": {
      "text/plain": [
       "(527, 140)"
      ]
     },
     "execution_count": 63,
     "metadata": {},
     "output_type": "execute_result"
    }
   ],
   "source": [
    "all_samp.shape"
   ]
  },
  {
   "cell_type": "markdown",
   "metadata": {},
   "source": [
    "### Preparing metadata "
   ]
  },
  {
   "cell_type": "code",
   "execution_count": 65,
   "metadata": {},
   "outputs": [],
   "source": [
    "meta_west = pd.Series(index=west_count.columns, data=['westernized_humans']*west_count.shape[1]).to_frame(name='Env')\n",
    "meta_west['SourceSink'] = [\"source\"]*west_count.shape[1]"
   ]
  },
  {
   "cell_type": "code",
   "execution_count": 66,
   "metadata": {},
   "outputs": [],
   "source": [
    "meta_non_west = pd.Series(index=non_west_count.columns, data=['non_westernized_humans']*non_west_count.shape[1]).to_frame(name='Env')\n",
    "meta_non_west['SourceSink'] = [\"source\"]*non_west_count.shape[1]"
   ]
  },
  {
   "cell_type": "code",
   "execution_count": 67,
   "metadata": {},
   "outputs": [],
   "source": [
    "meta_sediment = pd.Series(index=sediment_count.columns, data=['archeo_sediment']*sediment_count.shape[1]).to_frame(name='Env')\n",
    "meta_sediment['SourceSink'] = [\"source\"]*sediment_count.shape[1]"
   ]
  },
  {
   "cell_type": "code",
   "execution_count": 69,
   "metadata": {},
   "outputs": [],
   "source": [
    "meta_coproid = pd.Series(index=coproid_sedi.columns, data=['archeo_sediment']*coproid_sedi.shape[1]).to_frame(name='Env')\n",
    "meta_coproid['SourceSink'] = [\"source\"]*coproid_sedi.shape[1]"
   ]
  },
  {
   "cell_type": "code",
   "execution_count": 71,
   "metadata": {},
   "outputs": [],
   "source": [
    "meta_wib_sink = pd.Series(index=wib.columns, data=[\"-\"]*wib.shape[1]).to_frame(name='Env')\n",
    "meta_wib_sink['SourceSink'] = ['sink']*wib.shape[1]\n",
    "meta_wib_sink.drop(soil_samp, axis=0, inplace=True)"
   ]
  },
  {
   "cell_type": "code",
   "execution_count": 72,
   "metadata": {},
   "outputs": [],
   "source": [
    "meta_wib_source = pd.Series(index=soil_samp, data=['archeo_sediment']*len(soil_samp)).to_frame(name=\"Env\")\n",
    "meta_wib_source['SourceSink'] = ['source']*len(soil_samp)"
   ]
  },
  {
   "cell_type": "code",
   "execution_count": 73,
   "metadata": {},
   "outputs": [],
   "source": [
    "meta = meta_west.append(meta_non_west).append(meta_wib_sink).append(meta_sediment).append(meta_wib_source).append(meta_coproid)"
   ]
  },
  {
   "cell_type": "code",
   "execution_count": 74,
   "metadata": {},
   "outputs": [],
   "source": [
    "meta = meta[['SourceSink','Env']]"
   ]
  },
  {
   "cell_type": "markdown",
   "metadata": {},
   "source": [
    "Checking for concordance between metadata and data"
   ]
  },
  {
   "cell_type": "code",
   "execution_count": 75,
   "metadata": {},
   "outputs": [],
   "source": [
    "all_samp=all_samp[meta.index.intersection(all_samp.T.index)]"
   ]
  },
  {
   "cell_type": "code",
   "execution_count": 76,
   "metadata": {},
   "outputs": [],
   "source": [
    "all_samp = all_samp.astype(int)"
   ]
  },
  {
   "cell_type": "code",
   "execution_count": 77,
   "metadata": {},
   "outputs": [],
   "source": [
    "meta = meta.loc[meta.index.intersection(all_samp.T.index),:]"
   ]
  },
  {
   "cell_type": "code",
   "execution_count": 78,
   "metadata": {},
   "outputs": [
    {
     "data": {
      "text/plain": [
       "archeo_sediment           49\n",
       "non_westernized_humans    40\n",
       "westernized_humans        40\n",
       "-                         11\n",
       "Name: Env, dtype: int64"
      ]
     },
     "execution_count": 78,
     "metadata": {},
     "output_type": "execute_result"
    }
   ],
   "source": [
    "meta.Env.value_counts()"
   ]
  },
  {
   "cell_type": "markdown",
   "metadata": {},
   "source": [
    "### Exporting to csv"
   ]
  },
  {
   "cell_type": "code",
   "execution_count": 79,
   "metadata": {},
   "outputs": [],
   "source": [
    "all_samp.to_csv(\"all_samp_st2.tsv\", sep=\"\\t\", index_label='Taxon', )"
   ]
  },
  {
   "cell_type": "code",
   "execution_count": 80,
   "metadata": {},
   "outputs": [],
   "source": [
    "meta.to_csv(\"labels_st2.tsv\", sep=\"\\t\", index_label='#SampleID')"
   ]
  },
  {
   "cell_type": "markdown",
   "metadata": {},
   "source": [
    "### Converting counts file to biom format for [SourceTracker2](https://github.com/biota/sourcetracker2)"
   ]
  },
  {
   "cell_type": "code",
   "execution_count": 81,
   "metadata": {},
   "outputs": [],
   "source": [
    "!biom convert -i all_samp_st2.tsv -o all_samp_st2.biom --table-type=\"Taxon table\" --to-hdf5"
   ]
  },
  {
   "cell_type": "markdown",
   "metadata": {},
   "source": [
    "Minimum read count for SourceTracker rarefaction depth"
   ]
  },
  {
   "cell_type": "code",
   "execution_count": 82,
   "metadata": {},
   "outputs": [
    {
     "data": {
      "text/plain": [
       "11148"
      ]
     },
     "execution_count": 82,
     "metadata": {},
     "output_type": "execute_result"
    }
   ],
   "source": [
    "all_samp.sum(axis=0).min()"
   ]
  },
  {
   "cell_type": "markdown",
   "metadata": {},
   "source": [
    "### Preparing data for [SourcePredict](https://github.com/maxibor/sourcepredict)"
   ]
  },
  {
   "cell_type": "code",
   "execution_count": 83,
   "metadata": {},
   "outputs": [],
   "source": [
    "import re\n",
    "import ete3"
   ]
  },
  {
   "cell_type": "code",
   "execution_count": 130,
   "metadata": {},
   "outputs": [],
   "source": [
    "west_count = pd.read_csv(\"curated_metagenomics/data/westernized_count.csv\", index_col=0).sample(100, axis=1, random_state=42)"
   ]
  },
  {
   "cell_type": "code",
   "execution_count": 131,
   "metadata": {},
   "outputs": [],
   "source": [
    "non_west_count = pd.read_csv(\"curated_metagenomics/data/non_westernized_count.csv\", index_col=0).sample(100, axis=1, random_state=42)"
   ]
  },
  {
   "cell_type": "code",
   "execution_count": 132,
   "metadata": {},
   "outputs": [],
   "source": [
    "sediment_count = pd.read_csv(\"PRJEB18629/data/sediment_count.csv\", index_col=1).drop(\"Unnamed: 0\", 1)"
   ]
  },
  {
   "cell_type": "code",
   "execution_count": 133,
   "metadata": {},
   "outputs": [],
   "source": [
    "coproid_sedi = pd.read_csv(\"coproid_sediments/metaphlan_taxon_table.csv\", index_col=1).drop(\"Unnamed: 0\", 1).rename(columns={'ECO004_D0101_SG1_1_S0':'ECO004'})"
   ]
  },
  {
   "cell_type": "code",
   "execution_count": 134,
   "metadata": {},
   "outputs": [],
   "source": [
    "taxon_counts = (west_count.merge(non_west_count, left_index=True, right_index=True, how='outer')\n",
    "               .merge(sediment_count, left_index=True, right_index=True, how='outer')\n",
    "               .merge(wib, left_index=True, right_index=True, how='outer')\n",
    "               .merge(coproid_sedi, left_index=True, right_index=True).fillna(0))"
   ]
  },
  {
   "cell_type": "code",
   "execution_count": 135,
   "metadata": {},
   "outputs": [],
   "source": [
    "regex = re.compile(\".*s__(\\w*)\\.*\")"
   ]
  },
  {
   "cell_type": "code",
   "execution_count": 136,
   "metadata": {},
   "outputs": [],
   "source": [
    "for i in list(taxon_counts.index):\n",
    "    gen = re.findall(regex, i)\n",
    "    if len(gen) > 0:\n",
    "        gen = gen[0]\n",
    "    else:\n",
    "        gen = \"\"\n",
    "    taxon_counts.loc[i,'species'] = gen"
   ]
  },
  {
   "cell_type": "code",
   "execution_count": 137,
   "metadata": {},
   "outputs": [],
   "source": [
    "taxon_counts['species'] = taxon_counts.species.str.replace(\"_\", \" \")"
   ]
  },
  {
   "cell_type": "code",
   "execution_count": 138,
   "metadata": {},
   "outputs": [],
   "source": [
    "taxon_counts= taxon_counts.groupby(\"species\").sum().drop(\"\")"
   ]
  },
  {
   "cell_type": "code",
   "execution_count": 142,
   "metadata": {},
   "outputs": [],
   "source": [
    "from ete3 import NCBITaxa\n",
    "ncbi = NCBITaxa()"
   ]
  },
  {
   "cell_type": "code",
   "execution_count": 143,
   "metadata": {},
   "outputs": [],
   "source": [
    "taxkey = pd.Series({k:v[0] for (k, v) in ncbi.get_name_translator(taxon_counts.index).items()}, name=\"TAXID\")"
   ]
  },
  {
   "cell_type": "code",
   "execution_count": 144,
   "metadata": {},
   "outputs": [],
   "source": [
    "def check_bacterial_species(taxid):\n",
    "    rnk = list(ncbi.get_rank([taxid]).values())\n",
    "    is_bacteria = ('Bacteria' in ncbi.get_taxid_translator(ncbi.get_lineage(taxid)).values())\n",
    "    if len(rnk) == 1 and rnk[0] == 'species' and is_bacteria:\n",
    "        return(True)\n",
    "    else:\n",
    "        return(False)"
   ]
  },
  {
   "cell_type": "code",
   "execution_count": 145,
   "metadata": {},
   "outputs": [],
   "source": [
    "taxkey=taxkey.loc[taxkey.apply(check_bacterial_species)]"
   ]
  },
  {
   "cell_type": "code",
   "execution_count": 146,
   "metadata": {},
   "outputs": [],
   "source": [
    "taxid_count = taxon_counts.merge(taxkey, left_index=True, right_index=True)"
   ]
  },
  {
   "cell_type": "code",
   "execution_count": 147,
   "metadata": {},
   "outputs": [],
   "source": [
    "taxid_count = taxid_count.set_index(\"TAXID\", drop=True)"
   ]
  },
  {
   "cell_type": "code",
   "execution_count": 149,
   "metadata": {},
   "outputs": [],
   "source": [
    "taxid_count = taxid_count.loc[:,taxid_count.sum(axis=0) > 1]"
   ]
  },
  {
   "cell_type": "markdown",
   "metadata": {},
   "source": [
    "### Subsample normalization"
   ]
  },
  {
   "cell_type": "code",
   "execution_count": 101,
   "metadata": {},
   "outputs": [],
   "source": [
    "taxid_count = ((taxid_count/taxid_count.sum(axis=0)*10000)).fillna(0).astype(int)"
   ]
  },
  {
   "cell_type": "code",
   "execution_count": 102,
   "metadata": {},
   "outputs": [],
   "source": [
    "taxid_count = taxid_count.loc[taxid_count.sum(axis=1)!=0,:]"
   ]
  },
  {
   "cell_type": "code",
   "execution_count": 103,
   "metadata": {},
   "outputs": [],
   "source": [
    "sink_count = taxid_count.loc[:,meta_wib_sink.index]"
   ]
  },
  {
   "cell_type": "code",
   "execution_count": 104,
   "metadata": {},
   "outputs": [],
   "source": [
    "source_count = taxid_count.drop(meta_wib_sink.index, axis=1)"
   ]
  },
  {
   "cell_type": "markdown",
   "metadata": {},
   "source": [
    "Labels"
   ]
  },
  {
   "cell_type": "code",
   "execution_count": 109,
   "metadata": {},
   "outputs": [],
   "source": [
    "meta_west2 = pd.Series(index=west_count.columns, data=['westernized_humans']*west_count.shape[1]).to_frame(name='Env')\n",
    "meta_west2['SourceSink'] = [\"source\"]*west_count.shape[1]\n",
    "meta_non_west2 = pd.Series(index=non_west_count.columns, data=['non_westernized_humans']*non_west_count.shape[1]).to_frame(name='Env')\n",
    "meta_non_west2['SourceSink'] = [\"source\"]*non_west_count.shape[1]\n",
    "meta_sediment2 = pd.Series(index=sediment_count.columns, data=['archeo_sediment']*sediment_count.shape[1]).to_frame(name='Env')\n",
    "meta_sediment2['SourceSink'] = [\"source\"]*sediment_count.shape[1]\n",
    "meta_coproid = pd.Series(index=coproid_sedi.columns, data=['archeo_sediment']*coproid_sedi.shape[1]).to_frame(name='Env')\n",
    "meta_coproid['SourceSink'] = ['source']*coproid_sedi.shape[1]\n",
    "meta = meta_west2.append(meta_non_west2).append(meta_wib_sink).append(meta_sediment2).append(meta_wib_source).append(meta_coproid)"
   ]
  },
  {
   "cell_type": "code",
   "execution_count": 121,
   "metadata": {},
   "outputs": [],
   "source": [
    "labels = meta.query(\"SourceSink != 'sink'\").drop(\"SourceSink\", axis=1).rename(columns={'Env':'labels'})"
   ]
  },
  {
   "cell_type": "code",
   "execution_count": 111,
   "metadata": {},
   "outputs": [],
   "source": [
    "labels = labels.loc[labels.index.intersection(source_count.T.index),:]"
   ]
  },
  {
   "cell_type": "code",
   "execution_count": 112,
   "metadata": {},
   "outputs": [],
   "source": [
    "labels.to_csv(\"sourcepredict/wib_labels.csv\", index_label='SAMPLE')"
   ]
  },
  {
   "cell_type": "code",
   "execution_count": 113,
   "metadata": {},
   "outputs": [],
   "source": [
    "source_count=source_count[labels.index.intersection(source_count.T.index)]"
   ]
  },
  {
   "cell_type": "code",
   "execution_count": 114,
   "metadata": {},
   "outputs": [
    {
     "data": {
      "text/plain": [
       "(19, 211)"
      ]
     },
     "execution_count": 114,
     "metadata": {},
     "output_type": "execute_result"
    }
   ],
   "source": [
    "source_count.shape"
   ]
  },
  {
   "cell_type": "code",
   "execution_count": 115,
   "metadata": {},
   "outputs": [
    {
     "data": {
      "text/plain": [
       "(211, 1)"
      ]
     },
     "execution_count": 115,
     "metadata": {},
     "output_type": "execute_result"
    }
   ],
   "source": [
    "labels.shape"
   ]
  },
  {
   "cell_type": "code",
   "execution_count": 116,
   "metadata": {},
   "outputs": [
    {
     "data": {
      "text/plain": [
       "westernized_humans        100\n",
       "non_westernized_humans    100\n",
       "archeo_sediment            11\n",
       "Name: labels, dtype: int64"
      ]
     },
     "execution_count": 116,
     "metadata": {},
     "output_type": "execute_result"
    }
   ],
   "source": [
    "labels['labels'].value_counts()"
   ]
  },
  {
   "cell_type": "markdown",
   "metadata": {},
   "source": [
    "Not enough samples kept after filtering, sourcepredict results won't be relevant"
   ]
  },
  {
   "cell_type": "code",
   "execution_count": 72,
   "metadata": {},
   "outputs": [],
   "source": [
    "sink_count.to_csv(\"sourcepredict/wib_sink.csv\", index_label=\"TAXID\")\n",
    "source_count.to_csv(\"sourcepredict/wib_source.csv\", index_label=\"TAXID\")"
   ]
  }
 ],
 "metadata": {
  "kernelspec": {
   "display_name": "Python [conda env:root] *",
   "language": "python",
   "name": "conda-root-py"
  },
  "language_info": {
   "codemirror_mode": {
    "name": "ipython",
    "version": 3
   },
   "file_extension": ".py",
   "mimetype": "text/x-python",
   "name": "python",
   "nbconvert_exporter": "python",
   "pygments_lexer": "ipython3",
   "version": "3.7.3"
  }
 },
 "nbformat": 4,
 "nbformat_minor": 4
}
