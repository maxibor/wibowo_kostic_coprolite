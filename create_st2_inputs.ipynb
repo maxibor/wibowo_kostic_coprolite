{
 "cells": [
  {
   "cell_type": "code",
   "execution_count": 1,
   "metadata": {},
   "outputs": [],
   "source": [
    "import pandas as pd"
   ]
  },
  {
   "cell_type": "markdown",
   "metadata": {},
   "source": [
    "### Westernized samples from [curatedMetagenomicsData](http://bioconductor.org/packages/release/data/experiment/html/curatedMetagenomicData.html) package"
   ]
  },
  {
   "cell_type": "code",
   "execution_count": 2,
   "metadata": {},
   "outputs": [],
   "source": [
    "west_count = pd.read_csv(\"curated_metagenomics/data/westernized_count.csv\", index_col=0)"
   ]
  },
  {
   "cell_type": "markdown",
   "metadata": {},
   "source": [
    "Choosing randomly 100 samples"
   ]
  },
  {
   "cell_type": "code",
   "execution_count": 3,
   "metadata": {},
   "outputs": [],
   "source": [
    "west_count = west_count.sample(100, axis=1, random_state=42)"
   ]
  },
  {
   "cell_type": "code",
   "execution_count": 4,
   "metadata": {},
   "outputs": [
    {
     "data": {
      "text/html": [
       "<div>\n",
       "<style scoped>\n",
       "    .dataframe tbody tr th:only-of-type {\n",
       "        vertical-align: middle;\n",
       "    }\n",
       "\n",
       "    .dataframe tbody tr th {\n",
       "        vertical-align: top;\n",
       "    }\n",
       "\n",
       "    .dataframe thead th {\n",
       "        text-align: right;\n",
       "    }\n",
       "</style>\n",
       "<table border=\"1\" class=\"dataframe\">\n",
       "  <thead>\n",
       "    <tr style=\"text-align: right;\">\n",
       "      <th></th>\n",
       "      <th>ZeeviD_2015.metaphlan_bugs_list.stool:PNP_Main_265</th>\n",
       "      <th>VatanenT_2016.metaphlan_bugs_list.stool:G80343</th>\n",
       "      <th>NielsenHB_2014.metaphlan_bugs_list.stool:MH0039</th>\n",
       "      <th>LiJ_2014.metaphlan_bugs_list.stool:O2.UC37-1</th>\n",
       "      <th>ChengpingW_2017.metaphlan_bugs_list.stool:AS96raw</th>\n",
       "      <th>LouisS_2016.metaphlan_bugs_list.stool:AS64_3</th>\n",
       "      <th>HMP_2012.metaphlan_bugs_list.stool:SRS014613</th>\n",
       "      <th>NielsenHB_2014.metaphlan_bugs_list.stool:O2_UC31_0</th>\n",
       "      <th>NielsenHB_2014.metaphlan_bugs_list.stool:MH0146</th>\n",
       "      <th>ThomasAM_2018b.metaphlan_bugs_list.stool:CRC_MR_SBJ55C_17</th>\n",
       "      <th>...</th>\n",
       "      <th>LouisS_2016.metaphlan_bugs_list.stool:AS62_12</th>\n",
       "      <th>NielsenHB_2014.metaphlan_bugs_list.stool:MH0118</th>\n",
       "      <th>VatanenT_2016.metaphlan_bugs_list.stool:G80356</th>\n",
       "      <th>BackhedF_2015.metaphlan_bugs_list.stool:SID195_12M</th>\n",
       "      <th>JieZ_2017.metaphlan_bugs_list.stool:SAMEA104142343</th>\n",
       "      <th>ZeeviD_2015.metaphlan_bugs_list.stool:PNP_Main_111</th>\n",
       "      <th>SchirmerM_2016.metaphlan_bugs_list.stool:G88935</th>\n",
       "      <th>VatanenT_2016.metaphlan_bugs_list.stool:G80272</th>\n",
       "      <th>ZeeviD_2015.metaphlan_bugs_list.stool:PNP_Validation_87</th>\n",
       "      <th>ZeeviD_2015.metaphlan_bugs_list.stool:PNP_Main_464</th>\n",
       "    </tr>\n",
       "  </thead>\n",
       "  <tbody>\n",
       "    <tr>\n",
       "      <th>k__Bacteria</th>\n",
       "      <td>30791437</td>\n",
       "      <td>34027498</td>\n",
       "      <td>42700343</td>\n",
       "      <td>93568024</td>\n",
       "      <td>46643834</td>\n",
       "      <td>23014264</td>\n",
       "      <td>109953562</td>\n",
       "      <td>61969008</td>\n",
       "      <td>57590023</td>\n",
       "      <td>68372734</td>\n",
       "      <td>...</td>\n",
       "      <td>21279037</td>\n",
       "      <td>59182692</td>\n",
       "      <td>43512088</td>\n",
       "      <td>46307677</td>\n",
       "      <td>44856805</td>\n",
       "      <td>29125652</td>\n",
       "      <td>28566971</td>\n",
       "      <td>34473143</td>\n",
       "      <td>9163795</td>\n",
       "      <td>39983010</td>\n",
       "    </tr>\n",
       "    <tr>\n",
       "      <th>k__Bacteria|p__Bacteroidetes</th>\n",
       "      <td>1875829</td>\n",
       "      <td>22908002</td>\n",
       "      <td>26700859</td>\n",
       "      <td>42671303</td>\n",
       "      <td>25230447</td>\n",
       "      <td>19532454</td>\n",
       "      <td>82516619</td>\n",
       "      <td>18862646</td>\n",
       "      <td>44921316</td>\n",
       "      <td>6786688</td>\n",
       "      <td>...</td>\n",
       "      <td>10983798</td>\n",
       "      <td>8784024</td>\n",
       "      <td>25434106</td>\n",
       "      <td>809539</td>\n",
       "      <td>22753291</td>\n",
       "      <td>10559236</td>\n",
       "      <td>5003525</td>\n",
       "      <td>19096469</td>\n",
       "      <td>5130207</td>\n",
       "      <td>11544595</td>\n",
       "    </tr>\n",
       "    <tr>\n",
       "      <th>k__Bacteria|p__Proteobacteria</th>\n",
       "      <td>751053</td>\n",
       "      <td>500442</td>\n",
       "      <td>642897</td>\n",
       "      <td>1164701</td>\n",
       "      <td>242038</td>\n",
       "      <td>431094</td>\n",
       "      <td>905731</td>\n",
       "      <td>671689</td>\n",
       "      <td>488953</td>\n",
       "      <td>83390</td>\n",
       "      <td>...</td>\n",
       "      <td>169018</td>\n",
       "      <td>207305</td>\n",
       "      <td>654994</td>\n",
       "      <td>1066795</td>\n",
       "      <td>652661</td>\n",
       "      <td>247656</td>\n",
       "      <td>200137</td>\n",
       "      <td>2896982</td>\n",
       "      <td>276433</td>\n",
       "      <td>794393</td>\n",
       "    </tr>\n",
       "    <tr>\n",
       "      <th>k__Bacteria|p__Firmicutes</th>\n",
       "      <td>23260022</td>\n",
       "      <td>9800467</td>\n",
       "      <td>14863258</td>\n",
       "      <td>33589060</td>\n",
       "      <td>20481299</td>\n",
       "      <td>2090558</td>\n",
       "      <td>26318276</td>\n",
       "      <td>39041970</td>\n",
       "      <td>8494594</td>\n",
       "      <td>58886157</td>\n",
       "      <td>...</td>\n",
       "      <td>9602898</td>\n",
       "      <td>48121955</td>\n",
       "      <td>7916162</td>\n",
       "      <td>34917666</td>\n",
       "      <td>20922678</td>\n",
       "      <td>17359765</td>\n",
       "      <td>19518406</td>\n",
       "      <td>12080584</td>\n",
       "      <td>3526189</td>\n",
       "      <td>25196111</td>\n",
       "    </tr>\n",
       "    <tr>\n",
       "      <th>k__Bacteria|p__Actinobacteria</th>\n",
       "      <td>4902410</td>\n",
       "      <td>410133</td>\n",
       "      <td>379707</td>\n",
       "      <td>15992546</td>\n",
       "      <td>492113</td>\n",
       "      <td>960157</td>\n",
       "      <td>66478</td>\n",
       "      <td>3385462</td>\n",
       "      <td>93473</td>\n",
       "      <td>2605744</td>\n",
       "      <td>...</td>\n",
       "      <td>179291</td>\n",
       "      <td>2064901</td>\n",
       "      <td>3628071</td>\n",
       "      <td>9512695</td>\n",
       "      <td>480159</td>\n",
       "      <td>959000</td>\n",
       "      <td>3172648</td>\n",
       "      <td>390932</td>\n",
       "      <td>129729</td>\n",
       "      <td>2217743</td>\n",
       "    </tr>\n",
       "  </tbody>\n",
       "</table>\n",
       "<p>5 rows × 100 columns</p>\n",
       "</div>"
      ],
      "text/plain": [
       "                               ZeeviD_2015.metaphlan_bugs_list.stool:PNP_Main_265  \\\n",
       "k__Bacteria                                                             30791437    \n",
       "k__Bacteria|p__Bacteroidetes                                             1875829    \n",
       "k__Bacteria|p__Proteobacteria                                             751053    \n",
       "k__Bacteria|p__Firmicutes                                               23260022    \n",
       "k__Bacteria|p__Actinobacteria                                            4902410    \n",
       "\n",
       "                               VatanenT_2016.metaphlan_bugs_list.stool:G80343  \\\n",
       "k__Bacteria                                                          34027498   \n",
       "k__Bacteria|p__Bacteroidetes                                         22908002   \n",
       "k__Bacteria|p__Proteobacteria                                          500442   \n",
       "k__Bacteria|p__Firmicutes                                             9800467   \n",
       "k__Bacteria|p__Actinobacteria                                          410133   \n",
       "\n",
       "                               NielsenHB_2014.metaphlan_bugs_list.stool:MH0039  \\\n",
       "k__Bacteria                                                           42700343   \n",
       "k__Bacteria|p__Bacteroidetes                                          26700859   \n",
       "k__Bacteria|p__Proteobacteria                                           642897   \n",
       "k__Bacteria|p__Firmicutes                                             14863258   \n",
       "k__Bacteria|p__Actinobacteria                                           379707   \n",
       "\n",
       "                               LiJ_2014.metaphlan_bugs_list.stool:O2.UC37-1  \\\n",
       "k__Bacteria                                                        93568024   \n",
       "k__Bacteria|p__Bacteroidetes                                       42671303   \n",
       "k__Bacteria|p__Proteobacteria                                       1164701   \n",
       "k__Bacteria|p__Firmicutes                                          33589060   \n",
       "k__Bacteria|p__Actinobacteria                                      15992546   \n",
       "\n",
       "                               ChengpingW_2017.metaphlan_bugs_list.stool:AS96raw  \\\n",
       "k__Bacteria                                                             46643834   \n",
       "k__Bacteria|p__Bacteroidetes                                            25230447   \n",
       "k__Bacteria|p__Proteobacteria                                             242038   \n",
       "k__Bacteria|p__Firmicutes                                               20481299   \n",
       "k__Bacteria|p__Actinobacteria                                             492113   \n",
       "\n",
       "                               LouisS_2016.metaphlan_bugs_list.stool:AS64_3  \\\n",
       "k__Bacteria                                                        23014264   \n",
       "k__Bacteria|p__Bacteroidetes                                       19532454   \n",
       "k__Bacteria|p__Proteobacteria                                        431094   \n",
       "k__Bacteria|p__Firmicutes                                           2090558   \n",
       "k__Bacteria|p__Actinobacteria                                        960157   \n",
       "\n",
       "                               HMP_2012.metaphlan_bugs_list.stool:SRS014613  \\\n",
       "k__Bacteria                                                       109953562   \n",
       "k__Bacteria|p__Bacteroidetes                                       82516619   \n",
       "k__Bacteria|p__Proteobacteria                                        905731   \n",
       "k__Bacteria|p__Firmicutes                                          26318276   \n",
       "k__Bacteria|p__Actinobacteria                                         66478   \n",
       "\n",
       "                               NielsenHB_2014.metaphlan_bugs_list.stool:O2_UC31_0  \\\n",
       "k__Bacteria                                                             61969008    \n",
       "k__Bacteria|p__Bacteroidetes                                            18862646    \n",
       "k__Bacteria|p__Proteobacteria                                             671689    \n",
       "k__Bacteria|p__Firmicutes                                               39041970    \n",
       "k__Bacteria|p__Actinobacteria                                            3385462    \n",
       "\n",
       "                               NielsenHB_2014.metaphlan_bugs_list.stool:MH0146  \\\n",
       "k__Bacteria                                                           57590023   \n",
       "k__Bacteria|p__Bacteroidetes                                          44921316   \n",
       "k__Bacteria|p__Proteobacteria                                           488953   \n",
       "k__Bacteria|p__Firmicutes                                              8494594   \n",
       "k__Bacteria|p__Actinobacteria                                            93473   \n",
       "\n",
       "                               ThomasAM_2018b.metaphlan_bugs_list.stool:CRC_MR_SBJ55C_17  \\\n",
       "k__Bacteria                                                             68372734           \n",
       "k__Bacteria|p__Bacteroidetes                                             6786688           \n",
       "k__Bacteria|p__Proteobacteria                                              83390           \n",
       "k__Bacteria|p__Firmicutes                                               58886157           \n",
       "k__Bacteria|p__Actinobacteria                                            2605744           \n",
       "\n",
       "                               ...  \\\n",
       "k__Bacteria                    ...   \n",
       "k__Bacteria|p__Bacteroidetes   ...   \n",
       "k__Bacteria|p__Proteobacteria  ...   \n",
       "k__Bacteria|p__Firmicutes      ...   \n",
       "k__Bacteria|p__Actinobacteria  ...   \n",
       "\n",
       "                               LouisS_2016.metaphlan_bugs_list.stool:AS62_12  \\\n",
       "k__Bacteria                                                         21279037   \n",
       "k__Bacteria|p__Bacteroidetes                                        10983798   \n",
       "k__Bacteria|p__Proteobacteria                                         169018   \n",
       "k__Bacteria|p__Firmicutes                                            9602898   \n",
       "k__Bacteria|p__Actinobacteria                                         179291   \n",
       "\n",
       "                               NielsenHB_2014.metaphlan_bugs_list.stool:MH0118  \\\n",
       "k__Bacteria                                                           59182692   \n",
       "k__Bacteria|p__Bacteroidetes                                           8784024   \n",
       "k__Bacteria|p__Proteobacteria                                           207305   \n",
       "k__Bacteria|p__Firmicutes                                             48121955   \n",
       "k__Bacteria|p__Actinobacteria                                          2064901   \n",
       "\n",
       "                               VatanenT_2016.metaphlan_bugs_list.stool:G80356  \\\n",
       "k__Bacteria                                                          43512088   \n",
       "k__Bacteria|p__Bacteroidetes                                         25434106   \n",
       "k__Bacteria|p__Proteobacteria                                          654994   \n",
       "k__Bacteria|p__Firmicutes                                             7916162   \n",
       "k__Bacteria|p__Actinobacteria                                         3628071   \n",
       "\n",
       "                               BackhedF_2015.metaphlan_bugs_list.stool:SID195_12M  \\\n",
       "k__Bacteria                                                             46307677    \n",
       "k__Bacteria|p__Bacteroidetes                                              809539    \n",
       "k__Bacteria|p__Proteobacteria                                            1066795    \n",
       "k__Bacteria|p__Firmicutes                                               34917666    \n",
       "k__Bacteria|p__Actinobacteria                                            9512695    \n",
       "\n",
       "                               JieZ_2017.metaphlan_bugs_list.stool:SAMEA104142343  \\\n",
       "k__Bacteria                                                             44856805    \n",
       "k__Bacteria|p__Bacteroidetes                                            22753291    \n",
       "k__Bacteria|p__Proteobacteria                                             652661    \n",
       "k__Bacteria|p__Firmicutes                                               20922678    \n",
       "k__Bacteria|p__Actinobacteria                                             480159    \n",
       "\n",
       "                               ZeeviD_2015.metaphlan_bugs_list.stool:PNP_Main_111  \\\n",
       "k__Bacteria                                                             29125652    \n",
       "k__Bacteria|p__Bacteroidetes                                            10559236    \n",
       "k__Bacteria|p__Proteobacteria                                             247656    \n",
       "k__Bacteria|p__Firmicutes                                               17359765    \n",
       "k__Bacteria|p__Actinobacteria                                             959000    \n",
       "\n",
       "                               SchirmerM_2016.metaphlan_bugs_list.stool:G88935  \\\n",
       "k__Bacteria                                                           28566971   \n",
       "k__Bacteria|p__Bacteroidetes                                           5003525   \n",
       "k__Bacteria|p__Proteobacteria                                           200137   \n",
       "k__Bacteria|p__Firmicutes                                             19518406   \n",
       "k__Bacteria|p__Actinobacteria                                          3172648   \n",
       "\n",
       "                               VatanenT_2016.metaphlan_bugs_list.stool:G80272  \\\n",
       "k__Bacteria                                                          34473143   \n",
       "k__Bacteria|p__Bacteroidetes                                         19096469   \n",
       "k__Bacteria|p__Proteobacteria                                         2896982   \n",
       "k__Bacteria|p__Firmicutes                                            12080584   \n",
       "k__Bacteria|p__Actinobacteria                                          390932   \n",
       "\n",
       "                               ZeeviD_2015.metaphlan_bugs_list.stool:PNP_Validation_87  \\\n",
       "k__Bacteria                                                              9163795         \n",
       "k__Bacteria|p__Bacteroidetes                                             5130207         \n",
       "k__Bacteria|p__Proteobacteria                                             276433         \n",
       "k__Bacteria|p__Firmicutes                                                3526189         \n",
       "k__Bacteria|p__Actinobacteria                                             129729         \n",
       "\n",
       "                               ZeeviD_2015.metaphlan_bugs_list.stool:PNP_Main_464  \n",
       "k__Bacteria                                                             39983010   \n",
       "k__Bacteria|p__Bacteroidetes                                            11544595   \n",
       "k__Bacteria|p__Proteobacteria                                             794393   \n",
       "k__Bacteria|p__Firmicutes                                               25196111   \n",
       "k__Bacteria|p__Actinobacteria                                            2217743   \n",
       "\n",
       "[5 rows x 100 columns]"
      ]
     },
     "execution_count": 4,
     "metadata": {},
     "output_type": "execute_result"
    }
   ],
   "source": [
    "west_count.head()"
   ]
  },
  {
   "cell_type": "markdown",
   "metadata": {},
   "source": [
    "### Non-westernized samples from [curatedMetagenomicsData](http://bioconductor.org/packages/release/data/experiment/html/curatedMetagenomicData.html) package"
   ]
  },
  {
   "cell_type": "code",
   "execution_count": 5,
   "metadata": {},
   "outputs": [],
   "source": [
    "non_west_count = pd.read_csv(\"curated_metagenomics/data/non_westernized_count.csv\", index_col=0)"
   ]
  },
  {
   "cell_type": "code",
   "execution_count": 6,
   "metadata": {},
   "outputs": [],
   "source": [
    "non_west_count = non_west_count.sample(100, axis=1, random_state=42)"
   ]
  },
  {
   "cell_type": "markdown",
   "metadata": {},
   "source": [
    "### Sediment samples from Archaelogical sediments"
   ]
  },
  {
   "cell_type": "code",
   "execution_count": 7,
   "metadata": {},
   "outputs": [],
   "source": [
    "sediment_count = pd.read_csv(\"PRJEB18629/data/sediment_count.csv\", index_col=1).drop(\"Unnamed: 0\", 1)"
   ]
  },
  {
   "cell_type": "markdown",
   "metadata": {},
   "source": [
    "### Marsha's samples"
   ]
  },
  {
   "cell_type": "code",
   "execution_count": 8,
   "metadata": {},
   "outputs": [],
   "source": [
    "import os"
   ]
  },
  {
   "cell_type": "code",
   "execution_count": 9,
   "metadata": {},
   "outputs": [],
   "source": [
    "def get_samp_basename(samp_name):\n",
    "    return(\"_\".join(samp_name.split(\"_\")[0:2]))"
   ]
  },
  {
   "cell_type": "code",
   "execution_count": 10,
   "metadata": {},
   "outputs": [],
   "source": [
    "def read_sample(samp_name):\n",
    "    return(pd.read_csv(\"wibowo_mp/data/\"+samp_name, \n",
    "                       sep=\"\\t\", index_col=\"#SampleID\")\n",
    "           .rename(columns={'Metaphlan2_Analysis':get_samp_basename(samp_name)}))"
   ]
  },
  {
   "cell_type": "code",
   "execution_count": 11,
   "metadata": {},
   "outputs": [],
   "source": [
    "wib_metadata = pd.read_csv(\"wibowo_mp/samples_metadata.txt\", sep=\"\\t\", index_col=0)"
   ]
  },
  {
   "cell_type": "code",
   "execution_count": 12,
   "metadata": {},
   "outputs": [],
   "source": [
    "wib_metadata['total_reads'] = wib_metadata[\"Number of reads (pair 1)\"] +  wib_metadata['Number of reads (pair 2)']"
   ]
  },
  {
   "cell_type": "code",
   "execution_count": 13,
   "metadata": {},
   "outputs": [],
   "source": [
    "soil_samp = ['Lib4_10','Lib4_11','Lib4_12']"
   ]
  },
  {
   "cell_type": "code",
   "execution_count": 14,
   "metadata": {},
   "outputs": [],
   "source": [
    "wib_samp = [i for i in os.listdir(\"wibowo_mp/data/\")]"
   ]
  },
  {
   "cell_type": "code",
   "execution_count": 15,
   "metadata": {},
   "outputs": [],
   "source": [
    "wib = read_sample(wib_samp[0])"
   ]
  },
  {
   "cell_type": "code",
   "execution_count": 16,
   "metadata": {},
   "outputs": [],
   "source": [
    "for i in wib_samp[1:]:\n",
    "    wib = wib.merge(read_sample(i), left_index=True, right_index=True, how='outer')"
   ]
  },
  {
   "cell_type": "code",
   "execution_count": 17,
   "metadata": {},
   "outputs": [],
   "source": [
    "wib = wib.fillna(0)"
   ]
  },
  {
   "cell_type": "code",
   "execution_count": 18,
   "metadata": {},
   "outputs": [],
   "source": [
    "for col in wib.columns:\n",
    "    wib[col] = wib[col]/100*wib_metadata.loc[col,'total_reads']"
   ]
  },
  {
   "cell_type": "markdown",
   "metadata": {},
   "source": [
    "### Merging all samples"
   ]
  },
  {
   "cell_type": "code",
   "execution_count": 19,
   "metadata": {},
   "outputs": [],
   "source": [
    "all_samp = (west_count.merge(non_west_count, left_index=True, right_index=True, how='outer')\n",
    "            .merge(sediment_count, left_index=True, right_index=True, how='outer')\n",
    "            .merge(wib, left_index=True, right_index=True, how='outer').fillna(0))"
   ]
  },
  {
   "cell_type": "code",
   "execution_count": 20,
   "metadata": {},
   "outputs": [
    {
     "data": {
      "text/plain": [
       "(6558, 314)"
      ]
     },
     "execution_count": 20,
     "metadata": {},
     "output_type": "execute_result"
    }
   ],
   "source": [
    "all_samp.shape"
   ]
  },
  {
   "cell_type": "markdown",
   "metadata": {},
   "source": [
    "Keeping only Taxons that occur in more than 0.1% of samples"
   ]
  },
  {
   "cell_type": "code",
   "execution_count": 21,
   "metadata": {},
   "outputs": [],
   "source": [
    "all_samp = all_samp.loc[all_samp.astype(bool).sum(axis=1) >= int(all_samp.shape[1]/1000),:]"
   ]
  },
  {
   "cell_type": "markdown",
   "metadata": {},
   "source": [
    "Keeping only samples that have more 10000 mapping reads"
   ]
  },
  {
   "cell_type": "code",
   "execution_count": 22,
   "metadata": {},
   "outputs": [],
   "source": [
    "all_samp = all_samp.loc[:,all_samp.sum(axis=0) >= 10000]"
   ]
  },
  {
   "cell_type": "code",
   "execution_count": 23,
   "metadata": {},
   "outputs": [
    {
     "data": {
      "text/plain": [
       "(6558, 289)"
      ]
     },
     "execution_count": 23,
     "metadata": {},
     "output_type": "execute_result"
    }
   ],
   "source": [
    "all_samp.shape"
   ]
  },
  {
   "cell_type": "markdown",
   "metadata": {},
   "source": [
    "### Preparing metadata "
   ]
  },
  {
   "cell_type": "code",
   "execution_count": 24,
   "metadata": {},
   "outputs": [],
   "source": [
    "meta_west = pd.Series(index=west_count.columns, data=['westernized_humans']*west_count.shape[1]).to_frame(name='Env')\n",
    "meta_west['SourceSink'] = [\"source\"]*west_count.shape[1]"
   ]
  },
  {
   "cell_type": "code",
   "execution_count": 25,
   "metadata": {},
   "outputs": [],
   "source": [
    "meta_non_west = pd.Series(index=non_west_count.columns, data=['non_westernized_humans']*non_west_count.shape[1]).to_frame(name='Env')\n",
    "meta_non_west['SourceSink'] = [\"source\"]*non_west_count.shape[1]"
   ]
  },
  {
   "cell_type": "code",
   "execution_count": 26,
   "metadata": {},
   "outputs": [],
   "source": [
    "meta_sediment = pd.Series(index=sediment_count.columns, data=['archeo_sediment']*sediment_count.shape[1]).to_frame(name='Env')\n",
    "meta_sediment['SourceSink'] = [\"source\"]*sediment_count.shape[1]"
   ]
  },
  {
   "cell_type": "code",
   "execution_count": 27,
   "metadata": {},
   "outputs": [],
   "source": [
    "meta_wib_sink = pd.Series(index=wib.columns, data=[\"-\"]*wib.shape[1]).to_frame(name='Env')\n",
    "meta_wib_sink['SourceSink'] = ['sink']*wib.shape[1]\n",
    "meta_wib_sink.drop(soil_samp, axis=0, inplace=True)"
   ]
  },
  {
   "cell_type": "code",
   "execution_count": 28,
   "metadata": {},
   "outputs": [],
   "source": [
    "meta_wib_source = pd.Series(index=soil_samp, data=['archeo_sediment']*len(soil_samp)).to_frame(name=\"Env\")\n",
    "meta_wib_source['SourceSink'] = ['source']*len(soil_samp)"
   ]
  },
  {
   "cell_type": "code",
   "execution_count": 29,
   "metadata": {},
   "outputs": [],
   "source": [
    "meta = meta_west.append(meta_non_west).append(meta_wib_sink).append(meta_sediment).append(meta_wib_source)"
   ]
  },
  {
   "cell_type": "code",
   "execution_count": 30,
   "metadata": {},
   "outputs": [],
   "source": [
    "meta = meta[['SourceSink','Env']]"
   ]
  },
  {
   "cell_type": "markdown",
   "metadata": {},
   "source": [
    "Checking for concordance between metadata and data"
   ]
  },
  {
   "cell_type": "code",
   "execution_count": 31,
   "metadata": {},
   "outputs": [],
   "source": [
    "all_samp=all_samp[meta.index.intersection(all_samp.T.index)]"
   ]
  },
  {
   "cell_type": "code",
   "execution_count": 32,
   "metadata": {},
   "outputs": [],
   "source": [
    "all_samp = all_samp.astype(int)"
   ]
  },
  {
   "cell_type": "code",
   "execution_count": 33,
   "metadata": {},
   "outputs": [],
   "source": [
    "meta = meta.loc[meta.index.intersection(all_samp.T.index),:]"
   ]
  },
  {
   "cell_type": "code",
   "execution_count": 34,
   "metadata": {},
   "outputs": [
    {
     "data": {
      "text/plain": [
       "westernized_humans        100\n",
       "non_westernized_humans    100\n",
       "archeo_sediment            78\n",
       "-                          11\n",
       "Name: Env, dtype: int64"
      ]
     },
     "execution_count": 34,
     "metadata": {},
     "output_type": "execute_result"
    }
   ],
   "source": [
    "meta.Env.value_counts()"
   ]
  },
  {
   "cell_type": "markdown",
   "metadata": {},
   "source": [
    "### Exporting to csv"
   ]
  },
  {
   "cell_type": "code",
   "execution_count": 35,
   "metadata": {},
   "outputs": [],
   "source": [
    "all_samp.to_csv(\"all_samp_st2.tsv\", sep=\"\\t\", index_label='Taxon')"
   ]
  },
  {
   "cell_type": "code",
   "execution_count": 36,
   "metadata": {},
   "outputs": [],
   "source": [
    "meta.to_csv(\"labels_st2.tsv\", sep=\"\\t\", index_label='#SampleID')"
   ]
  },
  {
   "cell_type": "markdown",
   "metadata": {},
   "source": [
    "### Converting counts file to biom format"
   ]
  },
  {
   "cell_type": "code",
   "execution_count": 37,
   "metadata": {},
   "outputs": [],
   "source": [
    "!biom convert -i all_samp_st2.tsv -o all_samp_st2.biom --table-type=\"Taxon table\" --to-hdf5"
   ]
  },
  {
   "cell_type": "markdown",
   "metadata": {},
   "source": [
    "Minimum read count for SourceTracker rarefaction depth"
   ]
  },
  {
   "cell_type": "code",
   "execution_count": 38,
   "metadata": {},
   "outputs": [
    {
     "data": {
      "text/plain": [
       "10470"
      ]
     },
     "execution_count": 38,
     "metadata": {},
     "output_type": "execute_result"
    }
   ],
   "source": [
    "all_samp.sum(axis=0).min()"
   ]
  }
 ],
 "metadata": {
  "kernelspec": {
   "display_name": "Python [conda env:root] *",
   "language": "python",
   "name": "conda-root-py"
  },
  "language_info": {
   "codemirror_mode": {
    "name": "ipython",
    "version": 3
   },
   "file_extension": ".py",
   "mimetype": "text/x-python",
   "name": "python",
   "nbconvert_exporter": "python",
   "pygments_lexer": "ipython3",
   "version": "3.7.3"
  }
 },
 "nbformat": 4,
 "nbformat_minor": 4
}
