{
 "cells": [
  {
   "cell_type": "code",
   "execution_count": 48,
   "metadata": {},
   "outputs": [],
   "source": [
    "import pandas as pd\n",
    "import os\n",
    "from tqdm import tqdm\n",
    "import json\n",
    "from plotnine import *"
   ]
  },
  {
   "cell_type": "code",
   "execution_count": 4,
   "metadata": {},
   "outputs": [],
   "source": [
    "ancient_contigs = {}"
   ]
  },
  {
   "cell_type": "code",
   "execution_count": 52,
   "metadata": {},
   "outputs": [],
   "source": [
    "def get_ancient_contigs(pydamage_result_file, min_damage, alpha):\n",
    "    \"\"\"Filter contigs from pydamage results\n",
    "    Args:\n",
    "        pydamage_result_file(str): Path to pydamage result file\n",
    "        min_damage(float): Minimum amount of damage\n",
    "        alpha(float): qvalue threshold\n",
    "    Returns:\n",
    "        list: list of contigs meeting filtering requirements\n",
    "    \"\"\"\n",
    "    csv = pd.read_csv(pydamage_result_file, index_col=0)\n",
    "    the_mean = csv['damage_model_pmax'].mean()\n",
    "    the_std = csv['damage_model_pmax'].std()\n",
    "    the_min = the_mean - 2*the_std\n",
    "    the_max = the_mean + 2*the_std\n",
    "    return(list(csv.query(f\"damage_model_pmax >= {min_damage} and damage_model_pmax >= {the_min} and damage_model_pmax <= {the_max} and qvalue < {alpha}\").index))"
   ]
  },
  {
   "cell_type": "code",
   "execution_count": 53,
   "metadata": {},
   "outputs": [],
   "source": [
    "resdir = \"./results/\""
   ]
  },
  {
   "cell_type": "code",
   "execution_count": 54,
   "metadata": {},
   "outputs": [
    {
     "name": "stderr",
     "output_type": "stream",
     "text": [
      "100%|██████████| 522/522 [00:25<00:00, 20.87it/s]\n"
     ]
    }
   ],
   "source": [
    "for r in tqdm(os.listdir(resdir)):\n",
    "    samp_name = r.replace(\".pydamage_results.csv\",\"\")\n",
    "    ancient_contigs[samp_name] = get_ancient_contigs(f\"{resdir}/{r}\", min_damage=0.05, alpha=0.05)"
   ]
  },
  {
   "cell_type": "code",
   "execution_count": 55,
   "metadata": {},
   "outputs": [],
   "source": [
    "with open(\"ancient_contigs.json\", \"w\") as wjs:\n",
    "    json.dump(ancient_contigs, wjs)"
   ]
  },
  {
   "cell_type": "markdown",
   "metadata": {},
   "source": [
    "How to read and write JSON data in Python: [https://realpython.com/python-json/](https://realpython.com/python-json/)"
   ]
  },
  {
   "cell_type": "code",
   "execution_count": 56,
   "metadata": {},
   "outputs": [],
   "source": [
    "nb_contig_bin = {}\n",
    "for i in ancient_contigs:\n",
    "    nb_contig_bin[i] = len(ancient_contigs[i])"
   ]
  },
  {
   "cell_type": "code",
   "execution_count": 57,
   "metadata": {},
   "outputs": [],
   "source": [
    "nb_contig_bin = pd.Series(nb_contig_bin, name=\"nb_contigs_per_bin\").to_frame()"
   ]
  },
  {
   "cell_type": "code",
   "execution_count": 60,
   "metadata": {},
   "outputs": [
    {
     "data": {
      "text/plain": [
       "0      36\n",
       "1       5\n",
       "2       4\n",
       "3      13\n",
       "4       8\n",
       "       ..\n",
       "420     1\n",
       "461     1\n",
       "508     1\n",
       "527     1\n",
       "823     1\n",
       "Name: nb_contigs_per_bin, Length: 176, dtype: int64"
      ]
     },
     "execution_count": 60,
     "metadata": {},
     "output_type": "execute_result"
    }
   ],
   "source": [
    "nb_contig_bin['nb_contigs_per_bin'].value_counts().sort_index()"
   ]
  },
  {
   "cell_type": "code",
   "execution_count": 59,
   "metadata": {},
   "outputs": [
    {
     "name": "stderr",
     "output_type": "stream",
     "text": [
      "/projects1/users/borry/15_miniconda3/lib/python3.7/site-packages/plotnine/stats/stat_bin.py:93: PlotnineWarning: 'stat_bin()' using 'bins = 48'. Pick better value with 'binwidth'.\n",
      "  warn(msg.format(params['bins']), PlotnineWarning)\n"
     ]
    },
    {
     "data": {
      "image/png": "[encoded data removed]",
      "text/plain": [
       "<Figure size 640x480 with 1 Axes>"
      ]
     },
     "metadata": {},
     "output_type": "display_data"
    },
    {
     "data": {
      "text/plain": [
       "<ggplot: (-9223363303260940330)>"
      ]
     },
     "execution_count": 59,
     "metadata": {},
     "output_type": "execute_result"
    }
   ],
   "source": [
    "ggplot(nb_contig_bin, aes('nb_contigs_per_bin')) + geom_histogram()"
   ]
  }
 ],
 "metadata": {
  "kernelspec": {
   "display_name": "Python [conda env:root] *",
   "language": "python",
   "name": "conda-root-py"
  },
  "language_info": {
   "codemirror_mode": {
    "name": "ipython",
    "version": 3
   },
   "file_extension": ".py",
   "mimetype": "text/x-python",
   "name": "python",
   "nbconvert_exporter": "python",
   "pygments_lexer": "ipython3",
   "version": "3.7.3"
  }
 },
 "nbformat": 4,
 "nbformat_minor": 4
}
