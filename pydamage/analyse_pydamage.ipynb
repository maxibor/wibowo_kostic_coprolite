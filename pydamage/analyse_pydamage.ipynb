{
 "cells": [
  {
   "cell_type": "code",
   "execution_count": 38,
   "metadata": {},
   "outputs": [],
   "source": [
    "import pandas as pd\n",
    "import os\n",
    "from tqdm import tqdm\n",
    "import json"
   ]
  },
  {
   "cell_type": "code",
   "execution_count": 39,
   "metadata": {},
   "outputs": [],
   "source": [
    "ancient_contigs = {}"
   ]
  },
  {
   "cell_type": "code",
   "execution_count": 40,
   "metadata": {},
   "outputs": [],
   "source": [
    "def get_ancient_contigs(pydamage_result_file, min_damage, alpha):\n",
    "    \"\"\"Filter contigs from pydamage results\n",
    "    Args:\n",
    "        pydamage_result_file(str): Path to pydamage result file\n",
    "        min_damage(float): Minimum amount of damage\n",
    "        alpha(float): qvalue threshold\n",
    "    Returns:\n",
    "        list: list of contigs meeting filtering requirements\n",
    "    \"\"\"\n",
    "    csv = pd.read_csv(pydamage_result_file, index_col=0)\n",
    "    return(list(csv.query(f\"damage_model_pmax >= {min_damage} and qvalue < {alpha}\").index))"
   ]
  },
  {
   "cell_type": "code",
   "execution_count": 41,
   "metadata": {},
   "outputs": [],
   "source": [
    "resdir = \"./results/\""
   ]
  },
  {
   "cell_type": "code",
   "execution_count": 42,
   "metadata": {},
   "outputs": [
    {
     "name": "stderr",
     "output_type": "stream",
     "text": [
      "100%|██████████| 522/522 [00:19<00:00, 27.16it/s]\n"
     ]
    }
   ],
   "source": [
    "for r in tqdm(os.listdir(resdir)):\n",
    "    samp_name = r.replace(\".pydamage_results.csv\",\"\")\n",
    "    ancient_contigs[samp_name] = get_ancient_contigs(f\"{resdir}/{r}\", min_damage=0.05, alpha=0.05)"
   ]
  },
  {
   "cell_type": "code",
   "execution_count": 43,
   "metadata": {},
   "outputs": [],
   "source": [
    "with open(\"ancient_contigs.json\", \"w\") as wjs:\n",
    "    json.dump(ancient_contigs, wjs)"
   ]
  },
  {
   "cell_type": "markdown",
   "metadata": {},
   "source": [
    "How to read and write JSON data in Python: [https://realpython.com/python-json/](https://realpython.com/python-json/)"
   ]
  }
 ],
 "metadata": {
  "kernelspec": {
   "display_name": "Python [conda env:root] *",
   "language": "python",
   "name": "conda-root-py"
  },
  "language_info": {
   "codemirror_mode": {
    "name": "ipython",
    "version": 3
   },
   "file_extension": ".py",
   "mimetype": "text/x-python",
   "name": "python",
   "nbconvert_exporter": "python",
   "pygments_lexer": "ipython3",
   "version": "3.7.3"
  }
 },
 "nbformat": 4,
 "nbformat_minor": 4
}
