{
 "cells": [
  {
   "cell_type": "code",
   "execution_count": 1,
   "metadata": {},
   "outputs": [],
   "source": [
    "import pandas as pd\n",
    "from plotnine import *"
   ]
  },
  {
   "cell_type": "code",
   "execution_count": 2,
   "metadata": {},
   "outputs": [],
   "source": [
    "st2 = pd.read_csv(\"wib_st2/mixing_proportions.txt\", sep=\"\\t\")"
   ]
  },
  {
   "cell_type": "code",
   "execution_count": 3,
   "metadata": {},
   "outputs": [
    {
     "data": {
      "text/html": [
       "<div>\n",
       "<style scoped>\n",
       "    .dataframe tbody tr th:only-of-type {\n",
       "        vertical-align: middle;\n",
       "    }\n",
       "\n",
       "    .dataframe tbody tr th {\n",
       "        vertical-align: top;\n",
       "    }\n",
       "\n",
       "    .dataframe thead th {\n",
       "        text-align: right;\n",
       "    }\n",
       "</style>\n",
       "<table border=\"1\" class=\"dataframe\">\n",
       "  <thead>\n",
       "    <tr style=\"text-align: right;\">\n",
       "      <th></th>\n",
       "      <th>#SampleID</th>\n",
       "      <th>archeo_sediment</th>\n",
       "      <th>non_westernized_humans</th>\n",
       "      <th>westernized_humans</th>\n",
       "      <th>Unknown</th>\n",
       "    </tr>\n",
       "  </thead>\n",
       "  <tbody>\n",
       "    <tr>\n",
       "      <th>0</th>\n",
       "      <td>Lib4_3</td>\n",
       "      <td>0.003310</td>\n",
       "      <td>0.748735</td>\n",
       "      <td>0.169788</td>\n",
       "      <td>0.078166</td>\n",
       "    </tr>\n",
       "    <tr>\n",
       "      <th>1</th>\n",
       "      <td>Lib4_7</td>\n",
       "      <td>0.225861</td>\n",
       "      <td>0.030813</td>\n",
       "      <td>0.447740</td>\n",
       "      <td>0.295587</td>\n",
       "    </tr>\n",
       "    <tr>\n",
       "      <th>2</th>\n",
       "      <td>s_02</td>\n",
       "      <td>0.003498</td>\n",
       "      <td>0.763868</td>\n",
       "      <td>0.006001</td>\n",
       "      <td>0.226633</td>\n",
       "    </tr>\n",
       "    <tr>\n",
       "      <th>3</th>\n",
       "      <td>Lib3_6</td>\n",
       "      <td>0.761688</td>\n",
       "      <td>0.010890</td>\n",
       "      <td>0.004001</td>\n",
       "      <td>0.223421</td>\n",
       "    </tr>\n",
       "    <tr>\n",
       "      <th>4</th>\n",
       "      <td>Lib4_6</td>\n",
       "      <td>0.025296</td>\n",
       "      <td>0.849605</td>\n",
       "      <td>0.006127</td>\n",
       "      <td>0.118972</td>\n",
       "    </tr>\n",
       "    <tr>\n",
       "      <th>5</th>\n",
       "      <td>Lib4_1</td>\n",
       "      <td>0.001839</td>\n",
       "      <td>0.906844</td>\n",
       "      <td>0.007481</td>\n",
       "      <td>0.083836</td>\n",
       "    </tr>\n",
       "    <tr>\n",
       "      <th>6</th>\n",
       "      <td>Lib4_4</td>\n",
       "      <td>0.005283</td>\n",
       "      <td>0.008881</td>\n",
       "      <td>0.835217</td>\n",
       "      <td>0.150619</td>\n",
       "    </tr>\n",
       "    <tr>\n",
       "      <th>7</th>\n",
       "      <td>Lib4_8</td>\n",
       "      <td>0.026677</td>\n",
       "      <td>0.663375</td>\n",
       "      <td>0.024390</td>\n",
       "      <td>0.285558</td>\n",
       "    </tr>\n",
       "    <tr>\n",
       "      <th>8</th>\n",
       "      <td>Lib4_5</td>\n",
       "      <td>0.727054</td>\n",
       "      <td>0.011895</td>\n",
       "      <td>0.018290</td>\n",
       "      <td>0.242761</td>\n",
       "    </tr>\n",
       "    <tr>\n",
       "      <th>9</th>\n",
       "      <td>Lib4_2</td>\n",
       "      <td>0.001328</td>\n",
       "      <td>0.545165</td>\n",
       "      <td>0.005615</td>\n",
       "      <td>0.447892</td>\n",
       "    </tr>\n",
       "    <tr>\n",
       "      <th>10</th>\n",
       "      <td>Lib3_9</td>\n",
       "      <td>0.026552</td>\n",
       "      <td>0.518030</td>\n",
       "      <td>0.345874</td>\n",
       "      <td>0.109544</td>\n",
       "    </tr>\n",
       "  </tbody>\n",
       "</table>\n",
       "</div>"
      ],
      "text/plain": [
       "   #SampleID  archeo_sediment  non_westernized_humans  westernized_humans  \\\n",
       "0     Lib4_3         0.003310                0.748735            0.169788   \n",
       "1     Lib4_7         0.225861                0.030813            0.447740   \n",
       "2       s_02         0.003498                0.763868            0.006001   \n",
       "3     Lib3_6         0.761688                0.010890            0.004001   \n",
       "4     Lib4_6         0.025296                0.849605            0.006127   \n",
       "5     Lib4_1         0.001839                0.906844            0.007481   \n",
       "6     Lib4_4         0.005283                0.008881            0.835217   \n",
       "7     Lib4_8         0.026677                0.663375            0.024390   \n",
       "8     Lib4_5         0.727054                0.011895            0.018290   \n",
       "9     Lib4_2         0.001328                0.545165            0.005615   \n",
       "10    Lib3_9         0.026552                0.518030            0.345874   \n",
       "\n",
       "     Unknown  \n",
       "0   0.078166  \n",
       "1   0.295587  \n",
       "2   0.226633  \n",
       "3   0.223421  \n",
       "4   0.118972  \n",
       "5   0.083836  \n",
       "6   0.150619  \n",
       "7   0.285558  \n",
       "8   0.242761  \n",
       "9   0.447892  \n",
       "10  0.109544  "
      ]
     },
     "execution_count": 3,
     "metadata": {},
     "output_type": "execute_result"
    }
   ],
   "source": [
    "st2"
   ]
  },
  {
   "cell_type": "code",
   "execution_count": 4,
   "metadata": {},
   "outputs": [],
   "source": [
    "st2 = st2.melt(id_vars='#SampleID', var_name='source')"
   ]
  },
  {
   "cell_type": "code",
   "execution_count": 5,
   "metadata": {},
   "outputs": [
    {
     "data": {
      "text/html": [
       "<div>\n",
       "<style scoped>\n",
       "    .dataframe tbody tr th:only-of-type {\n",
       "        vertical-align: middle;\n",
       "    }\n",
       "\n",
       "    .dataframe tbody tr th {\n",
       "        vertical-align: top;\n",
       "    }\n",
       "\n",
       "    .dataframe thead th {\n",
       "        text-align: right;\n",
       "    }\n",
       "</style>\n",
       "<table border=\"1\" class=\"dataframe\">\n",
       "  <thead>\n",
       "    <tr style=\"text-align: right;\">\n",
       "      <th></th>\n",
       "      <th>#SampleID</th>\n",
       "      <th>source</th>\n",
       "      <th>value</th>\n",
       "    </tr>\n",
       "  </thead>\n",
       "  <tbody>\n",
       "    <tr>\n",
       "      <th>24</th>\n",
       "      <td>s_02</td>\n",
       "      <td>westernized_humans</td>\n",
       "      <td>0.006001</td>\n",
       "    </tr>\n",
       "    <tr>\n",
       "      <th>9</th>\n",
       "      <td>Lib4_2</td>\n",
       "      <td>archeo_sediment</td>\n",
       "      <td>0.001328</td>\n",
       "    </tr>\n",
       "    <tr>\n",
       "      <th>42</th>\n",
       "      <td>Lib4_2</td>\n",
       "      <td>Unknown</td>\n",
       "      <td>0.447892</td>\n",
       "    </tr>\n",
       "    <tr>\n",
       "      <th>25</th>\n",
       "      <td>Lib3_6</td>\n",
       "      <td>westernized_humans</td>\n",
       "      <td>0.004001</td>\n",
       "    </tr>\n",
       "    <tr>\n",
       "      <th>20</th>\n",
       "      <td>Lib4_2</td>\n",
       "      <td>non_westernized_humans</td>\n",
       "      <td>0.545165</td>\n",
       "    </tr>\n",
       "  </tbody>\n",
       "</table>\n",
       "</div>"
      ],
      "text/plain": [
       "   #SampleID                  source     value\n",
       "24      s_02      westernized_humans  0.006001\n",
       "9     Lib4_2         archeo_sediment  0.001328\n",
       "42    Lib4_2                 Unknown  0.447892\n",
       "25    Lib3_6      westernized_humans  0.004001\n",
       "20    Lib4_2  non_westernized_humans  0.545165"
      ]
     },
     "execution_count": 5,
     "metadata": {},
     "output_type": "execute_result"
    }
   ],
   "source": [
    "st2.sample(5)"
   ]
  },
  {
   "cell_type": "code",
   "execution_count": 6,
   "metadata": {},
   "outputs": [
    {
     "name": "stderr",
     "output_type": "stream",
     "text": [
      "/projects1/users/borry/15_miniconda3/lib/python3.7/site-packages/plotnine/ggplot.py:719: PlotnineWarning: Saving 6.4 x 4.8 in image.\n",
      "  from_inches(height, units), units), PlotnineWarning)\n",
      "/projects1/users/borry/15_miniconda3/lib/python3.7/site-packages/plotnine/ggplot.py:720: PlotnineWarning: Filename: sourcetracker2_sources.png\n",
      "  warn('Filename: {}'.format(filename), PlotnineWarning)\n",
      "/projects1/users/borry/15_miniconda3/lib/python3.7/site-packages/plotnine/ggplot.py:735: MatplotlibDeprecationWarning: \n",
      "The frameon kwarg was deprecated in Matplotlib 3.1 and will be removed in 3.3. Use facecolor instead.\n",
      "  fig.savefig(filename, **fig_kwargs)\n"
     ]
    },
    {
     "data": {
      "image/png": "[encoded data removed]",
      "text/plain": [
       "<Figure size 640x480 with 1 Axes>"
      ]
     },
     "metadata": {},
     "output_type": "display_data"
    },
    {
     "data": {
      "text/plain": [
       "<ggplot: (-9223363302512991691)>"
      ]
     },
     "execution_count": 6,
     "metadata": {},
     "output_type": "execute_result"
    }
   ],
   "source": [
    "g = ggplot(st2, aes(x='#SampleID',y='value')) \n",
    "g += geom_bar(aes(fill='source'), position='fill', stat='identity')\n",
    "g += theme_classic()\n",
    "g += theme(axis_text_x = element_text(angle = 90, hjust = 1))\n",
    "g.save(\"sourcetracker2_sources.png\", dpi=300)\n",
    "g"
   ]
  }
 ],
 "metadata": {
  "kernelspec": {
   "display_name": "Python [conda env:root] *",
   "language": "python",
   "name": "conda-root-py"
  },
  "language_info": {
   "codemirror_mode": {
    "name": "ipython",
    "version": 3
   },
   "file_extension": ".py",
   "mimetype": "text/x-python",
   "name": "python",
   "nbconvert_exporter": "python",
   "pygments_lexer": "ipython3",
   "version": "3.7.3"
  }
 },
 "nbformat": 4,
 "nbformat_minor": 4
}
