{
 "cells": [
  {
   "cell_type": "code",
   "execution_count": 1,
   "metadata": {},
   "outputs": [],
   "source": [
    "import pandas as pd\n",
    "from plotnine import *"
   ]
  },
  {
   "cell_type": "code",
   "execution_count": 2,
   "metadata": {},
   "outputs": [],
   "source": [
    "st2 = pd.read_csv(\"wib_st2/mixing_proportions.txt\", sep=\"\\t\")"
   ]
  },
  {
   "cell_type": "code",
   "execution_count": 3,
   "metadata": {},
   "outputs": [
    {
     "data": {
      "text/html": [
       "<div>\n",
       "<style scoped>\n",
       "    .dataframe tbody tr th:only-of-type {\n",
       "        vertical-align: middle;\n",
       "    }\n",
       "\n",
       "    .dataframe tbody tr th {\n",
       "        vertical-align: top;\n",
       "    }\n",
       "\n",
       "    .dataframe thead th {\n",
       "        text-align: right;\n",
       "    }\n",
       "</style>\n",
       "<table border=\"1\" class=\"dataframe\">\n",
       "  <thead>\n",
       "    <tr style=\"text-align: right;\">\n",
       "      <th></th>\n",
       "      <th>#SampleID</th>\n",
       "      <th>archeo_sediment</th>\n",
       "      <th>non_westernized_humans</th>\n",
       "      <th>westernized_humans</th>\n",
       "      <th>Unknown</th>\n",
       "    </tr>\n",
       "  </thead>\n",
       "  <tbody>\n",
       "    <tr>\n",
       "      <th>0</th>\n",
       "      <td>Lib4_3</td>\n",
       "      <td>0.002637</td>\n",
       "      <td>0.777189</td>\n",
       "      <td>0.157768</td>\n",
       "      <td>0.062406</td>\n",
       "    </tr>\n",
       "    <tr>\n",
       "      <th>1</th>\n",
       "      <td>Lib4_7</td>\n",
       "      <td>0.251148</td>\n",
       "      <td>0.038787</td>\n",
       "      <td>0.470335</td>\n",
       "      <td>0.239729</td>\n",
       "    </tr>\n",
       "    <tr>\n",
       "      <th>2</th>\n",
       "      <td>s_02</td>\n",
       "      <td>0.004790</td>\n",
       "      <td>0.788240</td>\n",
       "      <td>0.005759</td>\n",
       "      <td>0.201211</td>\n",
       "    </tr>\n",
       "    <tr>\n",
       "      <th>3</th>\n",
       "      <td>Lib3_6</td>\n",
       "      <td>0.847551</td>\n",
       "      <td>0.004593</td>\n",
       "      <td>0.002673</td>\n",
       "      <td>0.145183</td>\n",
       "    </tr>\n",
       "    <tr>\n",
       "      <th>4</th>\n",
       "      <td>Lib4_6</td>\n",
       "      <td>0.025906</td>\n",
       "      <td>0.864361</td>\n",
       "      <td>0.005095</td>\n",
       "      <td>0.104638</td>\n",
       "    </tr>\n",
       "    <tr>\n",
       "      <th>5</th>\n",
       "      <td>Lib4_1</td>\n",
       "      <td>0.002341</td>\n",
       "      <td>0.930418</td>\n",
       "      <td>0.005059</td>\n",
       "      <td>0.062182</td>\n",
       "    </tr>\n",
       "    <tr>\n",
       "      <th>6</th>\n",
       "      <td>Lib4_4</td>\n",
       "      <td>0.003812</td>\n",
       "      <td>0.016048</td>\n",
       "      <td>0.849318</td>\n",
       "      <td>0.130822</td>\n",
       "    </tr>\n",
       "    <tr>\n",
       "      <th>7</th>\n",
       "      <td>Lib4_8</td>\n",
       "      <td>0.021206</td>\n",
       "      <td>0.753669</td>\n",
       "      <td>0.011886</td>\n",
       "      <td>0.213240</td>\n",
       "    </tr>\n",
       "    <tr>\n",
       "      <th>8</th>\n",
       "      <td>Lib4_5</td>\n",
       "      <td>0.869385</td>\n",
       "      <td>0.007418</td>\n",
       "      <td>0.029270</td>\n",
       "      <td>0.093927</td>\n",
       "    </tr>\n",
       "    <tr>\n",
       "      <th>9</th>\n",
       "      <td>Lib4_2</td>\n",
       "      <td>0.001624</td>\n",
       "      <td>0.579727</td>\n",
       "      <td>0.004718</td>\n",
       "      <td>0.413931</td>\n",
       "    </tr>\n",
       "    <tr>\n",
       "      <th>10</th>\n",
       "      <td>Lib3_9</td>\n",
       "      <td>0.031737</td>\n",
       "      <td>0.616837</td>\n",
       "      <td>0.271206</td>\n",
       "      <td>0.080221</td>\n",
       "    </tr>\n",
       "  </tbody>\n",
       "</table>\n",
       "</div>"
      ],
      "text/plain": [
       "   #SampleID  archeo_sediment  non_westernized_humans  westernized_humans  \\\n",
       "0     Lib4_3         0.002637                0.777189            0.157768   \n",
       "1     Lib4_7         0.251148                0.038787            0.470335   \n",
       "2       s_02         0.004790                0.788240            0.005759   \n",
       "3     Lib3_6         0.847551                0.004593            0.002673   \n",
       "4     Lib4_6         0.025906                0.864361            0.005095   \n",
       "5     Lib4_1         0.002341                0.930418            0.005059   \n",
       "6     Lib4_4         0.003812                0.016048            0.849318   \n",
       "7     Lib4_8         0.021206                0.753669            0.011886   \n",
       "8     Lib4_5         0.869385                0.007418            0.029270   \n",
       "9     Lib4_2         0.001624                0.579727            0.004718   \n",
       "10    Lib3_9         0.031737                0.616837            0.271206   \n",
       "\n",
       "     Unknown  \n",
       "0   0.062406  \n",
       "1   0.239729  \n",
       "2   0.201211  \n",
       "3   0.145183  \n",
       "4   0.104638  \n",
       "5   0.062182  \n",
       "6   0.130822  \n",
       "7   0.213240  \n",
       "8   0.093927  \n",
       "9   0.413931  \n",
       "10  0.080221  "
      ]
     },
     "execution_count": 3,
     "metadata": {},
     "output_type": "execute_result"
    }
   ],
   "source": [
    "st2"
   ]
  },
  {
   "cell_type": "code",
   "execution_count": 4,
   "metadata": {},
   "outputs": [],
   "source": [
    "st2 = st2.melt(id_vars='#SampleID', var_name='source')"
   ]
  },
  {
   "cell_type": "code",
   "execution_count": 5,
   "metadata": {},
   "outputs": [],
   "source": [
    "st2['source'] = st2['source'].str.replace(\"_\",\" \")"
   ]
  },
  {
   "cell_type": "code",
   "execution_count": 6,
   "metadata": {},
   "outputs": [
    {
     "name": "stderr",
     "output_type": "stream",
     "text": [
      "/projects1/users/borry/15_miniconda3/lib/python3.7/site-packages/plotnine/ggplot.py:719: PlotnineWarning: Saving 6.4 x 4.8 in image.\n",
      "  from_inches(height, units), units), PlotnineWarning)\n",
      "/projects1/users/borry/15_miniconda3/lib/python3.7/site-packages/plotnine/ggplot.py:720: PlotnineWarning: Filename: sourcetracker2_sources.png\n",
      "  warn('Filename: {}'.format(filename), PlotnineWarning)\n",
      "/projects1/users/borry/15_miniconda3/lib/python3.7/site-packages/plotnine/ggplot.py:735: MatplotlibDeprecationWarning: \n",
      "The frameon kwarg was deprecated in Matplotlib 3.1 and will be removed in 3.3. Use facecolor instead.\n",
      "  fig.savefig(filename, **fig_kwargs)\n"
     ]
    },
    {
     "data": {
      "image/png": "[encoded data removed]",
      "text/plain": [
       "<Figure size 640x480 with 1 Axes>"
      ]
     },
     "metadata": {},
     "output_type": "display_data"
    },
    {
     "data": {
      "text/plain": [
       "<ggplot: (8775359011746)>"
      ]
     },
     "execution_count": 6,
     "metadata": {},
     "output_type": "execute_result"
    }
   ],
   "source": [
    "g = ggplot(st2, aes(x='#SampleID',y='value')) \n",
    "g += geom_bar(aes(fill='source'), position='fill', stat='identity')\n",
    "g += theme_classic()\n",
    "g += theme(axis_text_x = element_text(angle = 90, hjust = 1))\n",
    "g += labs(y=\"source fraction\",x=\"\")\n",
    "g.save(\"sourcetracker2_sources.png\", dpi=300)\n",
    "g"
   ]
  }
 ],
 "metadata": {
  "kernelspec": {
   "display_name": "Python [conda env:root] *",
   "language": "python",
   "name": "conda-root-py"
  },
  "language_info": {
   "codemirror_mode": {
    "name": "ipython",
    "version": 3
   },
   "file_extension": ".py",
   "mimetype": "text/x-python",
   "name": "python",
   "nbconvert_exporter": "python",
   "pygments_lexer": "ipython3",
   "version": "3.7.3"
  }
 },
 "nbformat": 4,
 "nbformat_minor": 4
}
