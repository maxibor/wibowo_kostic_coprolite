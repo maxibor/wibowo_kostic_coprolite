{
 "cells": [
  {
   "cell_type": "code",
   "execution_count": 2,
   "metadata": {},
   "outputs": [],
   "source": [
    "import pandas as pd\n",
    "from plotnine import *"
   ]
  },
  {
   "cell_type": "code",
   "execution_count": 20,
   "metadata": {},
   "outputs": [],
   "source": [
    "st2 = pd.read_csv(\"wib_st2/mixing_proportions.txt\", sep=\"\\t\")"
   ]
  },
  {
   "cell_type": "code",
   "execution_count": 21,
   "metadata": {},
   "outputs": [
    {
     "data": {
      "text/html": [
       "<div>\n",
       "<style scoped>\n",
       "    .dataframe tbody tr th:only-of-type {\n",
       "        vertical-align: middle;\n",
       "    }\n",
       "\n",
       "    .dataframe tbody tr th {\n",
       "        vertical-align: top;\n",
       "    }\n",
       "\n",
       "    .dataframe thead th {\n",
       "        text-align: right;\n",
       "    }\n",
       "</style>\n",
       "<table border=\"1\" class=\"dataframe\">\n",
       "  <thead>\n",
       "    <tr style=\"text-align: right;\">\n",
       "      <th></th>\n",
       "      <th>#SampleID</th>\n",
       "      <th>archeo_sediment</th>\n",
       "      <th>non_westernized_humans</th>\n",
       "      <th>westernized_humans</th>\n",
       "      <th>Unknown</th>\n",
       "    </tr>\n",
       "  </thead>\n",
       "  <tbody>\n",
       "    <tr>\n",
       "      <td>0</td>\n",
       "      <td>Lib3_6</td>\n",
       "      <td>0.922580</td>\n",
       "      <td>0.000013</td>\n",
       "      <td>0.077362</td>\n",
       "      <td>0.000046</td>\n",
       "    </tr>\n",
       "    <tr>\n",
       "      <td>1</td>\n",
       "      <td>Lib4_2</td>\n",
       "      <td>0.011617</td>\n",
       "      <td>0.004575</td>\n",
       "      <td>0.718201</td>\n",
       "      <td>0.265607</td>\n",
       "    </tr>\n",
       "    <tr>\n",
       "      <td>2</td>\n",
       "      <td>Lib4_1</td>\n",
       "      <td>0.006082</td>\n",
       "      <td>0.218388</td>\n",
       "      <td>0.752944</td>\n",
       "      <td>0.022586</td>\n",
       "    </tr>\n",
       "    <tr>\n",
       "      <td>3</td>\n",
       "      <td>Lib4_7</td>\n",
       "      <td>0.384569</td>\n",
       "      <td>0.000133</td>\n",
       "      <td>0.469571</td>\n",
       "      <td>0.145727</td>\n",
       "    </tr>\n",
       "    <tr>\n",
       "      <td>4</td>\n",
       "      <td>Lib4_4</td>\n",
       "      <td>0.044891</td>\n",
       "      <td>0.777835</td>\n",
       "      <td>0.125986</td>\n",
       "      <td>0.051288</td>\n",
       "    </tr>\n",
       "    <tr>\n",
       "      <td>5</td>\n",
       "      <td>Lib4_8</td>\n",
       "      <td>0.072848</td>\n",
       "      <td>0.264308</td>\n",
       "      <td>0.516664</td>\n",
       "      <td>0.146181</td>\n",
       "    </tr>\n",
       "    <tr>\n",
       "      <td>6</td>\n",
       "      <td>Lib4_5</td>\n",
       "      <td>0.836035</td>\n",
       "      <td>0.000014</td>\n",
       "      <td>0.163928</td>\n",
       "      <td>0.000024</td>\n",
       "    </tr>\n",
       "    <tr>\n",
       "      <td>7</td>\n",
       "      <td>Lib4_6</td>\n",
       "      <td>0.029515</td>\n",
       "      <td>0.078436</td>\n",
       "      <td>0.881871</td>\n",
       "      <td>0.010177</td>\n",
       "    </tr>\n",
       "    <tr>\n",
       "      <td>8</td>\n",
       "      <td>Lib3_9</td>\n",
       "      <td>0.031671</td>\n",
       "      <td>0.318223</td>\n",
       "      <td>0.619664</td>\n",
       "      <td>0.030442</td>\n",
       "    </tr>\n",
       "    <tr>\n",
       "      <td>9</td>\n",
       "      <td>s_02</td>\n",
       "      <td>0.000098</td>\n",
       "      <td>0.703682</td>\n",
       "      <td>0.192843</td>\n",
       "      <td>0.103377</td>\n",
       "    </tr>\n",
       "    <tr>\n",
       "      <td>10</td>\n",
       "      <td>Lib4_3</td>\n",
       "      <td>0.017111</td>\n",
       "      <td>0.001830</td>\n",
       "      <td>0.921599</td>\n",
       "      <td>0.059460</td>\n",
       "    </tr>\n",
       "  </tbody>\n",
       "</table>\n",
       "</div>"
      ],
      "text/plain": [
       "   #SampleID  archeo_sediment  non_westernized_humans  westernized_humans  \\\n",
       "0     Lib3_6         0.922580                0.000013            0.077362   \n",
       "1     Lib4_2         0.011617                0.004575            0.718201   \n",
       "2     Lib4_1         0.006082                0.218388            0.752944   \n",
       "3     Lib4_7         0.384569                0.000133            0.469571   \n",
       "4     Lib4_4         0.044891                0.777835            0.125986   \n",
       "5     Lib4_8         0.072848                0.264308            0.516664   \n",
       "6     Lib4_5         0.836035                0.000014            0.163928   \n",
       "7     Lib4_6         0.029515                0.078436            0.881871   \n",
       "8     Lib3_9         0.031671                0.318223            0.619664   \n",
       "9       s_02         0.000098                0.703682            0.192843   \n",
       "10    Lib4_3         0.017111                0.001830            0.921599   \n",
       "\n",
       "     Unknown  \n",
       "0   0.000046  \n",
       "1   0.265607  \n",
       "2   0.022586  \n",
       "3   0.145727  \n",
       "4   0.051288  \n",
       "5   0.146181  \n",
       "6   0.000024  \n",
       "7   0.010177  \n",
       "8   0.030442  \n",
       "9   0.103377  \n",
       "10  0.059460  "
      ]
     },
     "execution_count": 21,
     "metadata": {},
     "output_type": "execute_result"
    }
   ],
   "source": [
    "st2"
   ]
  },
  {
   "cell_type": "code",
   "execution_count": 22,
   "metadata": {},
   "outputs": [],
   "source": [
    "st2 = st2.melt(id_vars='#SampleID', var_name='source')"
   ]
  },
  {
   "cell_type": "code",
   "execution_count": 24,
   "metadata": {},
   "outputs": [
    {
     "data": {
      "text/html": [
       "<div>\n",
       "<style scoped>\n",
       "    .dataframe tbody tr th:only-of-type {\n",
       "        vertical-align: middle;\n",
       "    }\n",
       "\n",
       "    .dataframe tbody tr th {\n",
       "        vertical-align: top;\n",
       "    }\n",
       "\n",
       "    .dataframe thead th {\n",
       "        text-align: right;\n",
       "    }\n",
       "</style>\n",
       "<table border=\"1\" class=\"dataframe\">\n",
       "  <thead>\n",
       "    <tr style=\"text-align: right;\">\n",
       "      <th></th>\n",
       "      <th>#SampleID</th>\n",
       "      <th>source</th>\n",
       "      <th>value</th>\n",
       "    </tr>\n",
       "  </thead>\n",
       "  <tbody>\n",
       "    <tr>\n",
       "      <td>18</td>\n",
       "      <td>Lib4_6</td>\n",
       "      <td>non_westernized_humans</td>\n",
       "      <td>0.078436</td>\n",
       "    </tr>\n",
       "    <tr>\n",
       "      <td>38</td>\n",
       "      <td>Lib4_8</td>\n",
       "      <td>Unknown</td>\n",
       "      <td>0.146181</td>\n",
       "    </tr>\n",
       "    <tr>\n",
       "      <td>23</td>\n",
       "      <td>Lib4_2</td>\n",
       "      <td>westernized_humans</td>\n",
       "      <td>0.718201</td>\n",
       "    </tr>\n",
       "    <tr>\n",
       "      <td>0</td>\n",
       "      <td>Lib3_6</td>\n",
       "      <td>archeo_sediment</td>\n",
       "      <td>0.922580</td>\n",
       "    </tr>\n",
       "    <tr>\n",
       "      <td>42</td>\n",
       "      <td>s_02</td>\n",
       "      <td>Unknown</td>\n",
       "      <td>0.103377</td>\n",
       "    </tr>\n",
       "  </tbody>\n",
       "</table>\n",
       "</div>"
      ],
      "text/plain": [
       "   #SampleID                  source     value\n",
       "18    Lib4_6  non_westernized_humans  0.078436\n",
       "38    Lib4_8                 Unknown  0.146181\n",
       "23    Lib4_2      westernized_humans  0.718201\n",
       "0     Lib3_6         archeo_sediment  0.922580\n",
       "42      s_02                 Unknown  0.103377"
      ]
     },
     "execution_count": 24,
     "metadata": {},
     "output_type": "execute_result"
    }
   ],
   "source": [
    "st2.sample(5)"
   ]
  },
  {
   "cell_type": "code",
   "execution_count": 35,
   "metadata": {},
   "outputs": [
    {
     "name": "stderr",
     "output_type": "stream",
     "text": [
      "/Users/borry/miniconda3/lib/python3.7/site-packages/plotnine/ggplot.py:729: PlotnineWarning: Saving 6.4 x 4.8 in image.\n",
      "  from_inches(height, units), units), PlotnineWarning)\n",
      "/Users/borry/miniconda3/lib/python3.7/site-packages/plotnine/ggplot.py:730: PlotnineWarning: Filename: sourcetracker2_sources.png\n",
      "  warn('Filename: {}'.format(filename), PlotnineWarning)\n"
     ]
    },
    {
     "data": {
      "image/png": "[encoded data removed]",
      "text/plain": [
       "<Figure size 640x480 with 1 Axes>"
      ]
     },
     "metadata": {},
     "output_type": "display_data"
    },
    {
     "data": {
      "text/plain": [
       "<ggplot: (7562406065)>"
      ]
     },
     "execution_count": 35,
     "metadata": {},
     "output_type": "execute_result"
    }
   ],
   "source": [
    "g = ggplot(st2, aes(x='#SampleID',y='value')) \n",
    "g += geom_bar(aes(fill='source'), position='fill', stat='identity')\n",
    "g += theme_classic()\n",
    "g += theme(axis_text_x = element_text(angle = 90, hjust = 1))\n",
    "g.save(\"sourcetracker2_sources.png\", dpi=300)\n",
    "g"
   ]
  }
 ],
 "metadata": {
  "kernelspec": {
   "display_name": "Python [conda env:root] *",
   "language": "python",
   "name": "conda-root-py"
  },
  "language_info": {
   "codemirror_mode": {
    "name": "ipython",
    "version": 3
   },
   "file_extension": ".py",
   "mimetype": "text/x-python",
   "name": "python",
   "nbconvert_exporter": "python",
   "pygments_lexer": "ipython3",
   "version": "3.7.4"
  }
 },
 "nbformat": 4,
 "nbformat_minor": 4
}
