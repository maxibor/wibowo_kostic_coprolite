{
 "cells": [
  {
   "cell_type": "code",
   "execution_count": 1,
   "metadata": {},
   "outputs": [],
   "source": [
    "import pandas as pd\n",
    "from plotnine import *"
   ]
  },
  {
   "cell_type": "code",
   "execution_count": 2,
   "metadata": {},
   "outputs": [],
   "source": [
    "st2 = pd.read_csv(\"wib_st2/mixing_proportions.txt\", sep=\"\\t\")"
   ]
  },
  {
   "cell_type": "code",
   "execution_count": 3,
   "metadata": {},
   "outputs": [
    {
     "data": {
      "text/html": [
       "<div>\n",
       "<style scoped>\n",
       "    .dataframe tbody tr th:only-of-type {\n",
       "        vertical-align: middle;\n",
       "    }\n",
       "\n",
       "    .dataframe tbody tr th {\n",
       "        vertical-align: top;\n",
       "    }\n",
       "\n",
       "    .dataframe thead th {\n",
       "        text-align: right;\n",
       "    }\n",
       "</style>\n",
       "<table border=\"1\" class=\"dataframe\">\n",
       "  <thead>\n",
       "    <tr style=\"text-align: right;\">\n",
       "      <th></th>\n",
       "      <th>#SampleID</th>\n",
       "      <th>archeo_sediment</th>\n",
       "      <th>non_westernized_humans</th>\n",
       "      <th>westernized_humans</th>\n",
       "      <th>Unknown</th>\n",
       "    </tr>\n",
       "  </thead>\n",
       "  <tbody>\n",
       "    <tr>\n",
       "      <th>0</th>\n",
       "      <td>Lib4_3</td>\n",
       "      <td>0.002369</td>\n",
       "      <td>0.748997</td>\n",
       "      <td>0.181538</td>\n",
       "      <td>0.067096</td>\n",
       "    </tr>\n",
       "    <tr>\n",
       "      <th>1</th>\n",
       "      <td>Lib4_7</td>\n",
       "      <td>0.245731</td>\n",
       "      <td>0.098797</td>\n",
       "      <td>0.572159</td>\n",
       "      <td>0.083314</td>\n",
       "    </tr>\n",
       "    <tr>\n",
       "      <th>2</th>\n",
       "      <td>s_02</td>\n",
       "      <td>0.046504</td>\n",
       "      <td>0.835511</td>\n",
       "      <td>0.037555</td>\n",
       "      <td>0.080430</td>\n",
       "    </tr>\n",
       "    <tr>\n",
       "      <th>3</th>\n",
       "      <td>Lib3_6</td>\n",
       "      <td>0.865110</td>\n",
       "      <td>0.026800</td>\n",
       "      <td>0.101891</td>\n",
       "      <td>0.006199</td>\n",
       "    </tr>\n",
       "    <tr>\n",
       "      <th>4</th>\n",
       "      <td>Lib4_6</td>\n",
       "      <td>0.074183</td>\n",
       "      <td>0.873620</td>\n",
       "      <td>0.008548</td>\n",
       "      <td>0.043649</td>\n",
       "    </tr>\n",
       "    <tr>\n",
       "      <th>5</th>\n",
       "      <td>Lib4_1</td>\n",
       "      <td>0.006285</td>\n",
       "      <td>0.958835</td>\n",
       "      <td>0.021394</td>\n",
       "      <td>0.013486</td>\n",
       "    </tr>\n",
       "    <tr>\n",
       "      <th>6</th>\n",
       "      <td>Lib4_4</td>\n",
       "      <td>0.015396</td>\n",
       "      <td>0.140010</td>\n",
       "      <td>0.778806</td>\n",
       "      <td>0.065788</td>\n",
       "    </tr>\n",
       "    <tr>\n",
       "      <th>7</th>\n",
       "      <td>Lib4_8</td>\n",
       "      <td>0.044097</td>\n",
       "      <td>0.867861</td>\n",
       "      <td>0.012015</td>\n",
       "      <td>0.076027</td>\n",
       "    </tr>\n",
       "    <tr>\n",
       "      <th>8</th>\n",
       "      <td>Lib4_5</td>\n",
       "      <td>0.822904</td>\n",
       "      <td>0.024527</td>\n",
       "      <td>0.142416</td>\n",
       "      <td>0.010153</td>\n",
       "    </tr>\n",
       "    <tr>\n",
       "      <th>9</th>\n",
       "      <td>Lib4_2</td>\n",
       "      <td>0.106084</td>\n",
       "      <td>0.682550</td>\n",
       "      <td>0.006266</td>\n",
       "      <td>0.205100</td>\n",
       "    </tr>\n",
       "    <tr>\n",
       "      <th>10</th>\n",
       "      <td>Lib3_9</td>\n",
       "      <td>0.065702</td>\n",
       "      <td>0.683018</td>\n",
       "      <td>0.226819</td>\n",
       "      <td>0.024460</td>\n",
       "    </tr>\n",
       "  </tbody>\n",
       "</table>\n",
       "</div>"
      ],
      "text/plain": [
       "   #SampleID  archeo_sediment  non_westernized_humans  westernized_humans  \\\n",
       "0     Lib4_3         0.002369                0.748997            0.181538   \n",
       "1     Lib4_7         0.245731                0.098797            0.572159   \n",
       "2       s_02         0.046504                0.835511            0.037555   \n",
       "3     Lib3_6         0.865110                0.026800            0.101891   \n",
       "4     Lib4_6         0.074183                0.873620            0.008548   \n",
       "5     Lib4_1         0.006285                0.958835            0.021394   \n",
       "6     Lib4_4         0.015396                0.140010            0.778806   \n",
       "7     Lib4_8         0.044097                0.867861            0.012015   \n",
       "8     Lib4_5         0.822904                0.024527            0.142416   \n",
       "9     Lib4_2         0.106084                0.682550            0.006266   \n",
       "10    Lib3_9         0.065702                0.683018            0.226819   \n",
       "\n",
       "     Unknown  \n",
       "0   0.067096  \n",
       "1   0.083314  \n",
       "2   0.080430  \n",
       "3   0.006199  \n",
       "4   0.043649  \n",
       "5   0.013486  \n",
       "6   0.065788  \n",
       "7   0.076027  \n",
       "8   0.010153  \n",
       "9   0.205100  \n",
       "10  0.024460  "
      ]
     },
     "execution_count": 3,
     "metadata": {},
     "output_type": "execute_result"
    }
   ],
   "source": [
    "st2"
   ]
  },
  {
   "cell_type": "code",
   "execution_count": 4,
   "metadata": {},
   "outputs": [],
   "source": [
    "st2 = st2.melt(id_vars='#SampleID', var_name='source')"
   ]
  },
  {
   "cell_type": "code",
   "execution_count": 5,
   "metadata": {},
   "outputs": [
    {
     "data": {
      "text/html": [
       "<div>\n",
       "<style scoped>\n",
       "    .dataframe tbody tr th:only-of-type {\n",
       "        vertical-align: middle;\n",
       "    }\n",
       "\n",
       "    .dataframe tbody tr th {\n",
       "        vertical-align: top;\n",
       "    }\n",
       "\n",
       "    .dataframe thead th {\n",
       "        text-align: right;\n",
       "    }\n",
       "</style>\n",
       "<table border=\"1\" class=\"dataframe\">\n",
       "  <thead>\n",
       "    <tr style=\"text-align: right;\">\n",
       "      <th></th>\n",
       "      <th>#SampleID</th>\n",
       "      <th>source</th>\n",
       "      <th>value</th>\n",
       "    </tr>\n",
       "  </thead>\n",
       "  <tbody>\n",
       "    <tr>\n",
       "      <th>7</th>\n",
       "      <td>Lib4_8</td>\n",
       "      <td>archeo_sediment</td>\n",
       "      <td>0.044097</td>\n",
       "    </tr>\n",
       "    <tr>\n",
       "      <th>23</th>\n",
       "      <td>Lib4_7</td>\n",
       "      <td>westernized_humans</td>\n",
       "      <td>0.572159</td>\n",
       "    </tr>\n",
       "    <tr>\n",
       "      <th>25</th>\n",
       "      <td>Lib3_6</td>\n",
       "      <td>westernized_humans</td>\n",
       "      <td>0.101891</td>\n",
       "    </tr>\n",
       "    <tr>\n",
       "      <th>32</th>\n",
       "      <td>Lib3_9</td>\n",
       "      <td>westernized_humans</td>\n",
       "      <td>0.226819</td>\n",
       "    </tr>\n",
       "    <tr>\n",
       "      <th>39</th>\n",
       "      <td>Lib4_4</td>\n",
       "      <td>Unknown</td>\n",
       "      <td>0.065788</td>\n",
       "    </tr>\n",
       "  </tbody>\n",
       "</table>\n",
       "</div>"
      ],
      "text/plain": [
       "   #SampleID              source     value\n",
       "7     Lib4_8     archeo_sediment  0.044097\n",
       "23    Lib4_7  westernized_humans  0.572159\n",
       "25    Lib3_6  westernized_humans  0.101891\n",
       "32    Lib3_9  westernized_humans  0.226819\n",
       "39    Lib4_4             Unknown  0.065788"
      ]
     },
     "execution_count": 5,
     "metadata": {},
     "output_type": "execute_result"
    }
   ],
   "source": [
    "st2.sample(5)"
   ]
  },
  {
   "cell_type": "code",
   "execution_count": 6,
   "metadata": {},
   "outputs": [
    {
     "name": "stderr",
     "output_type": "stream",
     "text": [
      "/projects1/users/borry/15_miniconda3/lib/python3.7/site-packages/plotnine/ggplot.py:719: PlotnineWarning: Saving 6.4 x 4.8 in image.\n",
      "  from_inches(height, units), units), PlotnineWarning)\n",
      "/projects1/users/borry/15_miniconda3/lib/python3.7/site-packages/plotnine/ggplot.py:720: PlotnineWarning: Filename: sourcetracker2_sources.png\n",
      "  warn('Filename: {}'.format(filename), PlotnineWarning)\n",
      "/projects1/users/borry/15_miniconda3/lib/python3.7/site-packages/plotnine/ggplot.py:735: MatplotlibDeprecationWarning: \n",
      "The frameon kwarg was deprecated in Matplotlib 3.1 and will be removed in 3.3. Use facecolor instead.\n",
      "  fig.savefig(filename, **fig_kwargs)\n"
     ]
    },
    {
     "data": {
      "image/png": "[encoded data removed]",
      "text/plain": [
       "<Figure size 640x480 with 1 Axes>"
      ]
     },
     "metadata": {},
     "output_type": "display_data"
    },
    {
     "data": {
      "text/plain": [
       "<ggplot: (8768297009058)>"
      ]
     },
     "execution_count": 6,
     "metadata": {},
     "output_type": "execute_result"
    }
   ],
   "source": [
    "g = ggplot(st2, aes(x='#SampleID',y='value')) \n",
    "g += geom_bar(aes(fill='source'), position='fill', stat='identity')\n",
    "g += theme_classic()\n",
    "g += theme(axis_text_x = element_text(angle = 90, hjust = 1))\n",
    "g.save(\"sourcetracker2_sources.png\", dpi=300)\n",
    "g"
   ]
  }
 ],
 "metadata": {
  "kernelspec": {
   "display_name": "Python [conda env:root] *",
   "language": "python",
   "name": "conda-root-py"
  },
  "language_info": {
   "codemirror_mode": {
    "name": "ipython",
    "version": 3
   },
   "file_extension": ".py",
   "mimetype": "text/x-python",
   "name": "python",
   "nbconvert_exporter": "python",
   "pygments_lexer": "ipython3",
   "version": "3.7.3"
  }
 },
 "nbformat": 4,
 "nbformat_minor": 4
}
